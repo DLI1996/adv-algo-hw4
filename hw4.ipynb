{
 "cells": [
  {
   "cell_type": "markdown",
   "metadata": {},
   "source": [
    "## Setup\n",
    "\n",
    "Here, we're setting up the environment. For the request of the doc, we will list out location of each part of code responsible for the requirements in the assignment prompt."
   ]
  },
  {
   "cell_type": "code",
   "execution_count": 1,
   "metadata": {},
   "outputs": [
    {
     "name": "stdout",
     "output_type": "stream",
     "text": [
      "Tue Dec  5 00:19:00 2023       \n",
      "+-----------------------------------------------------------------------------+\n",
      "| NVIDIA-SMI 520.61.05    Driver Version: 520.61.05    CUDA Version: 11.8     |\n",
      "|-------------------------------+----------------------+----------------------+\n",
      "| GPU  Name        Persistence-M| Bus-Id        Disp.A | Volatile Uncorr. ECC |\n",
      "| Fan  Temp  Perf  Pwr:Usage/Cap|         Memory-Usage | GPU-Util  Compute M. |\n",
      "|                               |                      |               MIG M. |\n",
      "|===============================+======================+======================|\n",
      "|   0  NVIDIA GeForce ...  On   | 00000000:1A:00.0 Off |                  N/A |\n",
      "| 22%   23C    P8    20W / 250W |      1MiB / 11264MiB |      0%      Default |\n",
      "|                               |                      |                  N/A |\n",
      "+-------------------------------+----------------------+----------------------+\n",
      "|   1  NVIDIA GeForce ...  On   | 00000000:1B:00.0 Off |                  N/A |\n",
      "| 22%   22C    P8    21W / 250W |      1MiB / 11264MiB |      0%      Default |\n",
      "|                               |                      |                  N/A |\n",
      "+-------------------------------+----------------------+----------------------+\n",
      "|   2  NVIDIA GeForce ...  On   | 00000000:3D:00.0 Off |                  N/A |\n",
      "| 22%   22C    P8     5W / 250W |      1MiB / 11264MiB |      0%      Default |\n",
      "|                               |                      |                  N/A |\n",
      "+-------------------------------+----------------------+----------------------+\n",
      "|   3  NVIDIA GeForce ...  On   | 00000000:3E:00.0 Off |                  N/A |\n",
      "| 22%   26C    P8    22W / 250W |      1MiB / 11264MiB |      0%      Default |\n",
      "|                               |                      |                  N/A |\n",
      "+-------------------------------+----------------------+----------------------+\n",
      "|   4  NVIDIA GeForce ...  On   | 00000000:88:00.0 Off |                  N/A |\n",
      "| 22%   20C    P8     1W / 250W |      1MiB / 11264MiB |      0%      Default |\n",
      "|                               |                      |                  N/A |\n",
      "+-------------------------------+----------------------+----------------------+\n",
      "|   5  NVIDIA GeForce ...  On   | 00000000:89:00.0 Off |                  N/A |\n",
      "| 22%   22C    P8     1W / 250W |      1MiB / 11264MiB |      0%      Default |\n",
      "|                               |                      |                  N/A |\n",
      "+-------------------------------+----------------------+----------------------+\n",
      "|   6  NVIDIA GeForce ...  On   | 00000000:B1:00.0 Off |                  N/A |\n",
      "| 22%   21C    P8     6W / 250W |      1MiB / 11264MiB |      0%      Default |\n",
      "|                               |                      |                  N/A |\n",
      "+-------------------------------+----------------------+----------------------+\n",
      "|   7  NVIDIA GeForce ...  On   | 00000000:B2:00.0 Off |                  N/A |\n",
      "| 22%   22C    P8    18W / 250W |      1MiB / 11264MiB |      0%      Default |\n",
      "|                               |                      |                  N/A |\n",
      "+-------------------------------+----------------------+----------------------+\n",
      "                                                                               \n",
      "+-----------------------------------------------------------------------------+\n",
      "| Processes:                                                                  |\n",
      "|  GPU   GI   CI        PID   Type   Process name                  GPU Memory |\n",
      "|        ID   ID                                                   Usage      |\n",
      "|=============================================================================|\n",
      "|  No running processes found                                                 |\n",
      "+-----------------------------------------------------------------------------+\n"
     ]
    }
   ],
   "source": [
    "!nvidia-smi # first thing to check, otherwise, we are changing to another server"
   ]
  },
  {
   "cell_type": "code",
   "execution_count": 2,
   "metadata": {},
   "outputs": [],
   "source": [
    "import warnings\n",
    "warnings.filterwarnings(\"ignore\")"
   ]
  },
  {
   "cell_type": "code",
   "execution_count": 3,
   "metadata": {},
   "outputs": [],
   "source": [
    "import os\n",
    "gpus_str = '0'\n",
    "gpus_list = gpus_str.split(',')\n",
    "os.environ['CUDA_VISIBLE_DEVICES'] = gpus_str\n",
    "os.environ['TF_CPP_MIN_LOG_LEVEL'] = '2' # error only"
   ]
  },
  {
   "cell_type": "code",
   "execution_count": 4,
   "metadata": {},
   "outputs": [],
   "source": [
    "import random\n",
    "import queue\n",
    "import math\n",
    "import yaml\n",
    "from tqdm.notebook import tqdm\n",
    "from typing import Union, List, Dict"
   ]
  },
  {
   "cell_type": "code",
   "execution_count": 5,
   "metadata": {},
   "outputs": [
    {
     "name": "stderr",
     "output_type": "stream",
     "text": [
      "2023-12-05 00:19:11.328631: E tensorflow/compiler/xla/stream_executor/cuda/cuda_dnn.cc:9342] Unable to register cuDNN factory: Attempting to register factory for plugin cuDNN when one has already been registered\n",
      "2023-12-05 00:19:11.328669: E tensorflow/compiler/xla/stream_executor/cuda/cuda_fft.cc:609] Unable to register cuFFT factory: Attempting to register factory for plugin cuFFT when one has already been registered\n",
      "2023-12-05 00:19:11.328713: E tensorflow/compiler/xla/stream_executor/cuda/cuda_blas.cc:1518] Unable to register cuBLAS factory: Attempting to register factory for plugin cuBLAS when one has already been registered\n"
     ]
    }
   ],
   "source": [
    "import numpy as np\n",
    "import tensorflow as tf\n",
    "import tensorflow_addons as tfa\n",
    "from sklearn.model_selection import train_test_split\n",
    "import matplotlib.pyplot as plt"
   ]
  },
  {
   "cell_type": "code",
   "execution_count": 6,
   "metadata": {},
   "outputs": [
    {
     "data": {
      "text/plain": [
       "[PhysicalDevice(name='/physical_device:GPU:0', device_type='GPU')]"
      ]
     },
     "execution_count": 6,
     "metadata": {},
     "output_type": "execute_result"
    }
   ],
   "source": [
    "tf.config.list_physical_devices('GPU')"
   ]
  },
  {
   "cell_type": "code",
   "execution_count": 7,
   "metadata": {},
   "outputs": [],
   "source": [
    "from tensorflow.keras.callbacks import EarlyStopping, ModelCheckpoint\n",
    "from tensorflow.keras.metrics import F1Score\n",
    "from sklearn.metrics import f1_score"
   ]
  },
  {
   "cell_type": "code",
   "execution_count": 8,
   "metadata": {},
   "outputs": [],
   "source": [
    "from bayes_opt import BayesianOptimization"
   ]
  },
  {
   "cell_type": "code",
   "execution_count": 9,
   "metadata": {},
   "outputs": [],
   "source": [
    "RANDOM_STATE = 42\n",
    "np.random.seed(RANDOM_STATE)\n",
    "tf.random.set_seed(RANDOM_STATE)"
   ]
  },
  {
   "cell_type": "markdown",
   "metadata": {},
   "source": [
    "## Modeling\n",
    "\n",
    "In this homework, we are implementing algorithms to fine tune hyperparameters for the image classification\n",
    "task using a subset of the Federated EMNIST dataset with samples of digits only (10 classes). The dataset can be downloaded from [link](https://nuwildcat-my.sharepoint.com/personal/swl0126_ads_northwestern_edu/_layouts/15/onedrive.aspx?id=%2Fpersonal%2Fswl0126%5Fads%5Fnorthwestern%5Fedu%2FDocuments%2FAssignment4data&ga=1). We will first load the data."
   ]
  },
  {
   "cell_type": "markdown",
   "metadata": {},
   "source": [
    "### Load data"
   ]
  },
  {
   "cell_type": "code",
   "execution_count": 92,
   "metadata": {},
   "outputs": [
    {
     "data": {
      "text/plain": [
       "((9517, 28, 28), (1049, 28, 28), (9517,), (1049,))"
      ]
     },
     "execution_count": 92,
     "metadata": {},
     "output_type": "execute_result"
    }
   ],
   "source": [
    "X_train = np.load('data/train_X.npy')\n",
    "X_test = np.load('data/test_X.npy')\n",
    "y_train = np.load('data/train_y.npy')\n",
    "y_test = np.load('data/test_y.npy')\n",
    "X_train.shape, X_test.shape, y_train.shape, y_test.shape # 50/50 split for train/test"
   ]
  },
  {
   "cell_type": "markdown",
   "metadata": {},
   "source": [
    "Below we have a quick visualization to check the images, and we can see that it's pretty legible. We also did a quick histogram for all the labels - it's reasonably balanced for both train and test."
   ]
  },
  {
   "cell_type": "code",
   "execution_count": 93,
   "metadata": {},
   "outputs": [
    {
     "data": {
      "image/png": "[encoded data removed]",
      "text/plain": [
       "<Figure size 1000x800 with 20 Axes>"
      ]
     },
     "metadata": {},
     "output_type": "display_data"
    }
   ],
   "source": [
    "# def plot_images(images, labels, num=5):\n",
    "#     \"\"\" Calculate the number of rows and columns \"\"\"\n",
    "#     num_rows = math.ceil(num / 5) # display 5 images per row\n",
    "#     num_cols = min(num, 5)\n",
    "\n",
    "#     plt.figure(figsize=(10, 2 * num_rows))\n",
    "#     for i in range(num):\n",
    "#         plt.subplot(num_rows, num_cols, i+1)\n",
    "#         plt.imshow(images[i], cmap='gray')\n",
    "#         plt.title(\"Label: {}\".format(labels[i]))\n",
    "#     plt.tight_layout()\n",
    "#     plt.show()\n",
    "\n",
    "# plot_images(X_train, y_train, num=20)"
   ]
  },
  {
   "cell_type": "code",
   "execution_count": 94,
   "metadata": {},
   "outputs": [
    {
     "data": {
      "text/plain": [
       "Text(0.5, 1.0, 'Train Labels')"
      ]
     },
     "execution_count": 94,
     "metadata": {},
     "output_type": "execute_result"
    },
    {
     "data": {
      "image/png": "[encoded data removed]",
      "text/plain": [
       "<Figure size 640x480 with 1 Axes>"
      ]
     },
     "metadata": {},
     "output_type": "display_data"
    }
   ],
   "source": [
    "# # check distribution for train data\n",
    "# plt.hist(y_train)\n",
    "# plt.title(\"Train Labels\")"
   ]
  },
  {
   "cell_type": "code",
   "execution_count": 95,
   "metadata": {},
   "outputs": [
    {
     "data": {
      "text/plain": [
       "Text(0.5, 1.0, 'Test Label')"
      ]
     },
     "execution_count": 95,
     "metadata": {},
     "output_type": "execute_result"
    },
    {
     "data": {
      "image/png": "[encoded data removed]",
      "text/plain": [
       "<Figure size 640x480 with 1 Axes>"
      ]
     },
     "metadata": {},
     "output_type": "display_data"
    }
   ],
   "source": [
    "# # check distribution for test data\n",
    "# plt.hist(y_test)\n",
    "# plt.title(\"Test Label\")"
   ]
  },
  {
   "cell_type": "code",
   "execution_count": 96,
   "metadata": {},
   "outputs": [
    {
     "data": {
      "text/plain": [
       "((9517, 784), (1049, 784))"
      ]
     },
     "execution_count": 96,
     "metadata": {},
     "output_type": "execute_result"
    }
   ],
   "source": [
    "# reshape for NN input\n",
    "X_train = np.reshape(X_train, (X_train.shape[0], -1))\n",
    "X_test = np.reshape(X_test, (X_test.shape[0], -1))\n",
    "X_train.shape, X_test.shape"
   ]
  },
  {
   "cell_type": "markdown",
   "metadata": {},
   "source": [
    "As instructed, we use train X.npy, train y.npy for training and split them into 80% of training and\n",
    "20% of validation set. And we use test X.npy, test y.npy for testing. The test data should not be used in\n",
    "any part of the training and the hyperparameter tuning."
   ]
  },
  {
   "cell_type": "code",
   "execution_count": 97,
   "metadata": {},
   "outputs": [
    {
     "data": {
      "text/plain": [
       "((7613, 784), (1904, 784), (7613,), (1904,))"
      ]
     },
     "execution_count": 97,
     "metadata": {},
     "output_type": "execute_result"
    }
   ],
   "source": [
    "# 80/20 train_val split\n",
    "X_train, X_val, y_train, y_val = train_test_split(X_train, y_train, test_size=0.2, random_state=RANDOM_STATE)\n",
    "X_train.shape, X_val.shape, y_train.shape, y_val.shape"
   ]
  },
  {
   "cell_type": "markdown",
   "metadata": {},
   "source": [
    "### Define model\n",
    "\n",
    "Per requirments, we are using a 2-layer feed forward network (one hidden layer and one output layer) with\n",
    "128 hidden units for the image classification task. We are also using SGD as the optimizer and macro-averaged F1 score as the evaluation metric (Note that `tf.keras.metrics.F1Score` needs to take in one-hoted matrix, so we are making the conversion). We will train the network with mini-batches and early stopping on validation loss so that we can stop when converged."
   ]
  },
  {
   "cell_type": "code",
   "execution_count": 17,
   "metadata": {},
   "outputs": [
    {
     "data": {
      "text/plain": [
       "0.7111111"
      ]
     },
     "execution_count": 17,
     "metadata": {},
     "output_type": "execute_result"
    }
   ],
   "source": [
    "# # test the vanilla f1 measure\n",
    "# metric = tf.keras.metrics.F1Score(average='macro', threshold=0.5)\n",
    "# y_true = np.array([[1, 0, 0],\n",
    "#                    [0, 1, 1],\n",
    "#                    [1, 1, 0]], np.int32)\n",
    "# y_pred = np.array([[0.2, 0.6, 0.7],\n",
    "#                    [0.2, 0.6, 0.6],\n",
    "#                    [0.6, 0.8, 0.0]], np.float32)\n",
    "# metric.update_state(y_true, y_pred)\n",
    "# result = metric.result()\n",
    "# result.numpy()"
   ]
  },
  {
   "cell_type": "code",
   "execution_count": 331,
   "metadata": {},
   "outputs": [
    {
     "data": {
      "text/plain": [
       "((7613,), (1904,), (1049,))"
      ]
     },
     "execution_count": 331,
     "metadata": {},
     "output_type": "execute_result"
    }
   ],
   "source": [
    "# y_train.shape, y_val.shape, y_test.shape"
   ]
  },
  {
   "cell_type": "code",
   "execution_count": 19,
   "metadata": {},
   "outputs": [],
   "source": [
    "def one_hot_matrix(y):\n",
    "    num_classes = len(np.unique(y))\n",
    "    return np.eye(num_classes)[y]"
   ]
  },
  {
   "cell_type": "code",
   "execution_count": 99,
   "metadata": {},
   "outputs": [
    {
     "data": {
      "text/plain": [
       "((7613, 10), (1904, 10), (1049, 10))"
      ]
     },
     "execution_count": 99,
     "metadata": {},
     "output_type": "execute_result"
    }
   ],
   "source": [
    "y_train_one_hot = one_hot_matrix(y_train)\n",
    "y_val_one_hot = one_hot_matrix(y_val)\n",
    "y_test_one_hot = one_hot_matrix(y_test)\n",
    "\n",
    "y_train_one_hot.shape, y_val_one_hot.shape, y_test_one_hot.shape"
   ]
  },
  {
   "cell_type": "code",
   "execution_count": 25,
   "metadata": {},
   "outputs": [],
   "source": [
    "INPUT_SHAPE = (784, ) # 28x28 images\n",
    "OUTPUT_SIZE = 10 # 62 classes\n",
    "LR = 0.001 # learning rate\n",
    "\n",
    "def get_model(activation_fn=\"relu\", input_shape=INPUT_SHAPE, output_size=OUTPUT_SIZE, learning_rate=LR):\n",
    "    \"\"\" create a feed-forward neural network with 1 hidden layer (128 units), using SGD optimizer\"\"\"\n",
    "    model = tf.keras.models.Sequential([\n",
    "        tf.keras.layers.Dense(128, activation=activation_fn, input_shape=input_shape),\n",
    "        tf.keras.layers.Dense(output_size, activation=\"softmax\")\n",
    "    ])\n",
    "    \n",
    "    sgd_optimizer = tf.keras.optimizers.SGD(learning_rate=learning_rate) # SGD optimizer\n",
    "    f1 = tf.keras.metrics.F1Score(average='macro', threshold=0.5) # macro-average f1 score\n",
    "    model.compile(optimizer=sgd_optimizer, \n",
    "                  loss=\"categorical_crossentropy\", # for one-hot encoded labels\n",
    "                  metrics=[f1])\n",
    "    return model"
   ]
  },
  {
   "cell_type": "code",
   "execution_count": 12,
   "metadata": {},
   "outputs": [],
   "source": [
    "P = 10 # patience\n",
    "early_stopping = EarlyStopping(monitor='val_loss', \n",
    "                               patience=P, \n",
    "                               min_delta=0.001,\n",
    "                               restore_best_weights=True)"
   ]
  },
  {
   "cell_type": "code",
   "execution_count": 20,
   "metadata": {},
   "outputs": [
    {
     "name": "stdout",
     "output_type": "stream",
     "text": [
      "Model: \"sequential\"\n",
      "_________________________________________________________________\n",
      " Layer (type)                Output Shape              Param #   \n",
      "=================================================================\n",
      " dense (Dense)               (None, 128)               100480    \n",
      "                                                                 \n",
      " dense_1 (Dense)             (None, 10)                1290      \n",
      "                                                                 \n",
      "=================================================================\n",
      "Total params: 101770 (397.54 KB)\n",
      "Trainable params: 101770 (397.54 KB)\n",
      "Non-trainable params: 0 (0.00 Byte)\n",
      "_________________________________________________________________\n"
     ]
    }
   ],
   "source": [
    "model=get_model()\n",
    "model.summary()"
   ]
  },
  {
   "cell_type": "markdown",
   "metadata": {},
   "source": [
    "Quick test to make sure that the model is working - also a good way for us to know how many iterations are needed"
   ]
  },
  {
   "cell_type": "code",
   "execution_count": 51,
   "metadata": {},
   "outputs": [],
   "source": [
    "# # test model\n",
    "# A = \"relu\"\n",
    "# B = 32\n",
    "# E = 400"
   ]
  },
  {
   "cell_type": "code",
   "execution_count": 52,
   "metadata": {},
   "outputs": [],
   "source": [
    "# model = get_model(activation_fn=A)\n",
    "# history = model.fit(X_train, y_train_one_hot, epochs=E, validation_data=(X_val, y_val_one_hot), batch_size=B, callbacks=[early_stopping], verbose=0)"
   ]
  },
  {
   "cell_type": "code",
   "execution_count": 53,
   "metadata": {},
   "outputs": [
    {
     "data": {
      "text/plain": [
       "{'verbose': 0, 'epochs': 400, 'steps': 238}"
      ]
     },
     "execution_count": 53,
     "metadata": {},
     "output_type": "execute_result"
    }
   ],
   "source": [
    "# history.params"
   ]
  },
  {
   "cell_type": "code",
   "execution_count": 56,
   "metadata": {},
   "outputs": [
    {
     "data": {
      "text/plain": [
       "dict_keys(['loss', 'f1_score', 'val_loss', 'val_f1_score'])"
      ]
     },
     "execution_count": 56,
     "metadata": {},
     "output_type": "execute_result"
    }
   ],
   "source": [
    "# history.history.keys()"
   ]
  },
  {
   "cell_type": "code",
   "execution_count": 60,
   "metadata": {},
   "outputs": [
    {
     "data": {
      "text/plain": [
       "301"
      ]
     },
     "execution_count": 60,
     "metadata": {},
     "output_type": "execute_result"
    }
   ],
   "source": [
    "# len(history.history['val_f1_score'])"
   ]
  },
  {
   "cell_type": "code",
   "execution_count": 65,
   "metadata": {},
   "outputs": [
    {
     "data": {
      "text/plain": [
       "<matplotlib.legend.Legend at 0x7fc240e05ca0>"
      ]
     },
     "execution_count": 65,
     "metadata": {},
     "output_type": "execute_result"
    },
    {
     "data": {
      "image/png": "[encoded data removed]",
      "text/plain": [
       "<Figure size 640x480 with 1 Axes>"
      ]
     },
     "metadata": {},
     "output_type": "display_data"
    }
   ],
   "source": [
    "# # plot the training loss, and validation loss\n",
    "# plt.plot(history.history['loss'], label='train loss')\n",
    "# plt.plot(history.history['val_loss'], label='val loss')\n",
    "# plt.legend()"
   ]
  },
  {
   "cell_type": "code",
   "execution_count": 66,
   "metadata": {},
   "outputs": [
    {
     "data": {
      "text/plain": [
       "<matplotlib.legend.Legend at 0x7fc240db0c40>"
      ]
     },
     "execution_count": 66,
     "metadata": {},
     "output_type": "execute_result"
    },
    {
     "data": {
      "image/png": "[encoded data removed]",
      "text/plain": [
       "<Figure size 640x480 with 1 Axes>"
      ]
     },
     "metadata": {},
     "output_type": "display_data"
    }
   ],
   "source": [
    "# # plot the training f1 score, and validation f1 score\n",
    "# plt.plot(history.history['f1_score'], label='train f1 score')\n",
    "# plt.plot(history.history['val_f1_score'], label='val f1 score')\n",
    "# plt.legend()"
   ]
  },
  {
   "cell_type": "code",
   "execution_count": 74,
   "metadata": {},
   "outputs": [
    {
     "name": "stdout",
     "output_type": "stream",
     "text": [
      "39/60 [==================>...........] - ETA: 0s"
     ]
    },
    {
     "name": "stdout",
     "output_type": "stream",
     "text": [
      "60/60 [==============================] - 0s 1ms/step\n",
      "Macro average validation F1 score: 0.9009302447253015\n",
      "Macro average validation F1 score from history: 0.9029124975204468\n"
     ]
    }
   ],
   "source": [
    "# # use the fitted model and evaluate on evaluation set using f1 score\n",
    "# y_pred_prob = model.predict(X_val)\n",
    "# y_pred = np.argmax(y_pred_prob, axis=1)  # convert probabilities to class labels\n",
    "# y_true = y_val\n",
    "\n",
    "# f1 = f1_score(y_true, y_pred, average='macro')\n",
    "# print('Macro average validation F1 score:', f1)\n",
    "# print('Macro average validation F1 score from history:', history.history['val_f1_score'][-1])"
   ]
  },
  {
   "cell_type": "markdown",
   "metadata": {},
   "source": [
    "### Hyperparameter Tuning\n",
    "\n",
    "For the following algorithms, we will fine tune the mini-batch size Band the activation function\n",
    "for the hidden layer to maximize the validation F1 score. The activation function should be one of {RELU,sigmoid, tanh}. The mini-batch size should be in range of [16, 1024]"
   ]
  },
  {
   "cell_type": "code",
   "execution_count": 21,
   "metadata": {},
   "outputs": [],
   "source": [
    "activation_fns = [\"relu\", \"sigmoid\", \"tanh\"]\n",
    "mini_batch_sizes = list(range(16, 1024+1, 1))"
   ]
  },
  {
   "cell_type": "markdown",
   "metadata": {},
   "source": [
    "### Genetic Algorithm\n",
    "\n",
    "On a very high-level, we are implementing the Genetic Algorithm where the chromosom representation is 13 bits (3 bit for one-hot encoded activation function mapping and 10 bits for for batch size-16). For each generation, we generate a population of 5 chromosomes, using the roulette rule to select two parents with replacement, a fixed one-point crossover with potential mutation to generate offsprings, and age based selection unload old chromosomes. If we a) reach a certain good enough fitness score, b) converge (aka, no improvement for the past few generations) or c) finish all generations, the search is terminated. "
   ]
  },
  {
   "cell_type": "markdown",
   "metadata": {},
   "source": [
    "#### chromesome\n",
    "\n",
    "We start by converting the hyperparameters pairs into chromesome - each with 3 bits to representive the three activation functions we have, and 10 bits for the mini-batch sizes (technically 1024 will need 11 bits, but we start from 16, and thus, we keep track of batch_size-16\\)"
   ]
  },
  {
   "cell_type": "code",
   "execution_count": 22,
   "metadata": {},
   "outputs": [],
   "source": [
    "activation_mapping = {\n",
    "    \"relu\": \"100\",\n",
    "    \"sigmoid\": \"010\",\n",
    "    \"tanh\": \"001\"\n",
    "}\n",
    "reversed_activation_mapping = {v: k for k, v in activation_mapping.items()}"
   ]
  },
  {
   "cell_type": "code",
   "execution_count": 23,
   "metadata": {},
   "outputs": [],
   "source": [
    "def encode_hyperparameters(activation_fn, mini_batch_size):\n",
    "    \"\"\"generate a binary string encoding the activation function (3 bits) and mini-batch size (10 bits)\"\"\"\n",
    "    # Encode activation function\n",
    "    if activation_fn not in activation_mapping:\n",
    "        raise ValueError(\"Invalid activation function\")\n",
    "    activation_binary = activation_mapping[activation_fn]\n",
    "\n",
    "    # Encode mini-batch size (10 bits)\n",
    "    if mini_batch_size < 16 or mini_batch_size > 1024:\n",
    "        raise ValueError(\"Mini-batch size out of range\")\n",
    "    mini_batch_binary = format(mini_batch_size - 16, '010b') # 16 is the smallest mini-batch size\n",
    "\n",
    "    # Combine activation function and mini-batch size into a single binary string\n",
    "    chromosome = activation_binary + mini_batch_binary\n",
    "    return chromosome\n",
    "\n",
    "def decode_hyperparameters(chromosome):\n",
    "    activation_fn = reversed_activation_mapping.get(chromosome[:3])\n",
    "    if not activation_fn: raise ValueError(\"Invalid activation function\")\n",
    "    mini_batch_size = int(chromosome[3:], 2) + 16\n",
    "    return activation_fn, mini_batch_size\n"
   ]
  },
  {
   "cell_type": "code",
   "execution_count": 112,
   "metadata": {},
   "outputs": [
    {
     "name": "stdout",
     "output_type": "stream",
     "text": [
      "Chromosome: 0101111110000\n"
     ]
    }
   ],
   "source": [
    "# # Test\n",
    "# activation_function = \"tanh\"\n",
    "# batch_size = 1024\n",
    "\n",
    "# chromosome = encode_hyperparameters(activation_function, batch_size)\n",
    "# print(\"Chromosome:\", chromosome)"
   ]
  },
  {
   "cell_type": "markdown",
   "metadata": {},
   "source": [
    "#### train and evaluate model"
   ]
  },
  {
   "cell_type": "code",
   "execution_count": 13,
   "metadata": {},
   "outputs": [],
   "source": [
    "P=10\n",
    "early_stopping = EarlyStopping(monitor='val_loss', patience=P,\n",
    "                                    min_delta=0.001\n",
    "                                   ) # restore_best_weights=False, doesn't matter for eval since we will train on train+val when we have the best hyperparameters"
   ]
  },
  {
   "cell_type": "code",
   "execution_count": 14,
   "metadata": {},
   "outputs": [],
   "source": [
    "def train_and_eval(a, m, verbose=0):\n",
    "    # Initialize tqdm for progress bar\n",
    "    epochs_iterator = tqdm(range(E), desc=f'(a={a}, m={m}), Epochs:', leave=False)  # E is the number of epochs\n",
    "\n",
    "    # train the model\n",
    "    model = get_model(activation_fn=a)\n",
    "    for epoch in epochs_iterator:\n",
    "        history = model.fit(X_train, y_train_one_hot, epochs=1, validation_data=(X_val, y_val_one_hot),\n",
    "                            batch_size=m, callbacks=[early_stopping], verbose=verbose)\n",
    "        epochs_iterator.set_postfix({'val_f1_score': history.history['val_f1_score'][-1], 'val_loss': history.history['val_loss'][-1]})\n",
    "\n",
    "    return history.history['val_f1_score'][-1]"
   ]
  },
  {
   "cell_type": "code",
   "execution_count": 176,
   "metadata": {},
   "outputs": [],
   "source": [
    "# def train_and_eval(a, m, verbose=0):\n",
    "#     # train the model\n",
    "#     model = get_model(activation_fn=a)\n",
    "#     early_stopping = EarlyStopping(monitor='val_loss', patience=P, restore_best_weights=True)\n",
    "#     history = model.fit(X_train, y_train_one_hot, epochs=E, validation_data=(X_val, y_val_one_hot), batch_size=m, callbacks=[early_stopping], verbose=verbose)\n",
    "#     return history.history['val_f1_score'][-1]"
   ]
  },
  {
   "cell_type": "markdown",
   "metadata": {},
   "source": [
    "#### roulette wheel parent selection\n",
    "\n",
    "Based on what's covered in lab, we would sample two parent chromosomes (with replacement) from selected set of parents"
   ]
  },
  {
   "cell_type": "code",
   "execution_count": 25,
   "metadata": {},
   "outputs": [],
   "source": [
    "def roulette_wheel_selection(fitness_score, parents=2):\n",
    "    \"\"\"select parents based on fitness score\"\"\"\n",
    "    total_fitness = sum(fitness_score.values())\n",
    "    probabilities = [fitness_score[c] / total_fitness for c in fitness_score]\n",
    "    parents = np.random.choice(list(fitness_score.keys()), \n",
    "                               size=min(parents, len(fitness_score)), \n",
    "                               replace=True, \n",
    "                               p=probabilities)\n",
    "    return parents"
   ]
  },
  {
   "cell_type": "markdown",
   "metadata": {},
   "source": [
    "#### produce offsprings\n",
    "\n",
    "As covered in lecture, since we know that the first 3 digits would be representing the activation funciton, and we are bounded to [16, 1024] batch size range, we're using **segmented crossover** (i.e, fix point) instead. Based on the fact that we have two parents, we have two children (`math.comb(2, 1) * math.comb(2, 1) - 2`).\n",
    "\n",
    "Another part is mutation, here we have permissible range so we are using a **random resetting** - with probability, we mutate a child for its activation function or mini-batch size, with random resetting independently."
   ]
  },
  {
   "cell_type": "code",
   "execution_count": 26,
   "metadata": {},
   "outputs": [],
   "source": [
    "def crossover(parents):\n",
    "    \"\"\"generate two children based on single point crossover from two parents\"\"\"\n",
    "    if len(parents) < 2: raise ValueError(\"Must have at least 2 parents for crossover.\")\n",
    "    crossover_point = 3 # 3 bits for activation function, 10 bits for mini-batch size\n",
    "    child1 = parents[0][:crossover_point] + parents[1][crossover_point:]\n",
    "    child2 = parents[1][:crossover_point] + parents[0][crossover_point:]\n",
    "    return child1, child2"
   ]
  },
  {
   "cell_type": "code",
   "execution_count": 93,
   "metadata": {},
   "outputs": [
    {
     "data": {
      "text/plain": [
       "('0000000001', '0010000001')"
      ]
     },
     "execution_count": 93,
     "metadata": {},
     "output_type": "execute_result"
    }
   ],
   "source": [
    "# child1, child2 = crossover([\"0000000001\", \"0010000001\"])\n",
    "# child1, child2"
   ]
  },
  {
   "cell_type": "code",
   "execution_count": 27,
   "metadata": {},
   "outputs": [],
   "source": [
    "def mutation(child, p=.1): \n",
    "    \"\"\"mutate a child with probability p\"\"\"\n",
    "    mutated_child = \"\"\n",
    "    \n",
    "    # activation function\n",
    "    if np.random.random() < p: \n",
    "        mutated_child += child[:3]\n",
    "    else: \n",
    "        picks = [f for f in activation_mapping.values() if f != child[:3]]\n",
    "        mutated_child += np.random.choice(picks) # within permissible range\n",
    "    \n",
    "    # mini-batch size\n",
    "    if np.random.random() < p: \n",
    "        mutated_child += child[3:]\n",
    "    else:\n",
    "        mutated_child += format(np.random.randint(0, 1024-16+1), '010b') # within permissible range\n",
    "\n",
    "    return mutated_child    "
   ]
  },
  {
   "cell_type": "code",
   "execution_count": 110,
   "metadata": {},
   "outputs": [
    {
     "data": {
      "text/plain": [
       "('0000000001', '0001101011000')"
      ]
     },
     "execution_count": 110,
     "metadata": {},
     "output_type": "execute_result"
    }
   ],
   "source": [
    "# mutated_child = mutation(child1, p=.5)\n",
    "# child1, mutated_child # kept original activation function, but mutated mini-batch size"
   ]
  },
  {
   "cell_type": "markdown",
   "metadata": {},
   "source": [
    "#### age-based selection"
   ]
  },
  {
   "cell_type": "code",
   "execution_count": 28,
   "metadata": {},
   "outputs": [],
   "source": [
    "def age_based_selection(pop_age:dict, children:list, population:list):\n",
    "    # age-based selection\n",
    "    oldest = sorted(pop_age, key=pop_age.get, reverse=True)[:len(children)] # keeping the population size constant\n",
    "    decode_oldest = [(decode_hyperparameters(c), pop_age[c]) for c in oldest]\n",
    "    for c in oldest: \n",
    "        pop_age.pop(c)\n",
    "        population.remove(c)\n",
    "    # new generation\n",
    "    population.extend(children)\n",
    "    for c in children: pop_age[c] = 0\n",
    "    decode_children = [decode_hyperparameters(c) for c in children]\n",
    "    print(f\"removed: {decode_oldest}; added: {decode_children}\")\n",
    "    return "
   ]
  },
  {
   "cell_type": "code",
   "execution_count": 210,
   "metadata": {},
   "outputs": [
    {
     "name": "stdout",
     "output_type": "stream",
     "text": [
      "removed: [(('relu', 425), 8), (('relu', 169), 6)]; added: [('relu', 246), ('relu', 485)]\n"
     ]
    }
   ],
   "source": [
    "# population = ['1111001100110', '0010101010101', '1010010011001', '0101111100110', '1000110011001']  # Example population of chromosomes\n",
    "# mutated_children = ['1110011100110', '0010111010101']  # Example list of mutated children\n",
    "# pop_age = {chromosome: random.randint(1, 10) for chromosome in population}\n",
    "# old_population = population.copy()\n",
    "# old_pop_age = pop_age.copy()\n",
    "# age_based_selection(pop_age, mutated_children, population)"
   ]
  },
  {
   "cell_type": "code",
   "execution_count": 218,
   "metadata": {},
   "outputs": [
    {
     "data": {
      "text/plain": [
       "([('relu', 425), ('relu', 169)], [('relu', 485), ('relu', 246)])"
      ]
     },
     "execution_count": 218,
     "metadata": {},
     "output_type": "execute_result"
    }
   ],
   "source": [
    "# # diff in population\n",
    "# decode_new = [decode_hyperparameters(c) for c in set(population) - set(old_population)]\n",
    "# decode_old = [decode_hyperparameters(c) for c in set(old_population) - set(population)]\n",
    "# decode_old, decode_new"
   ]
  },
  {
   "cell_type": "code",
   "execution_count": 212,
   "metadata": {},
   "outputs": [
    {
     "data": {
      "text/plain": [
       "({'1000110011001': 8,\n",
       "  '1010010011001': 6,\n",
       "  '0101111100110': 2,\n",
       "  '1111001100110': 1,\n",
       "  '0010101010101': 1},\n",
       " {'0101111100110': 2,\n",
       "  '1111001100110': 1,\n",
       "  '0010101010101': 1,\n",
       "  '1110011100110': 0,\n",
       "  '0010111010101': 0})"
      ]
     },
     "execution_count": 212,
     "metadata": {},
     "output_type": "execute_result"
    }
   ],
   "source": [
    "# sorted_old_pop_age = dict(sorted(old_pop_age.items(), key=lambda item: item[1], reverse=True))\n",
    "# sorted_pop_age = dict(sorted(pop_age.items(), key=lambda item: item[1], reverse=True))\n",
    "# sorted_old_pop_age, sorted_pop_age"
   ]
  },
  {
   "cell_type": "markdown",
   "metadata": {},
   "source": [
    "#### run algo"
   ]
  },
  {
   "cell_type": "code",
   "execution_count": 109,
   "metadata": {},
   "outputs": [],
   "source": [
    "# for NN\n",
    "E = 2000 # epochs to run\n",
    "CP = 10 # chromosome patience\n",
    "\n",
    "# for GA\n",
    "G = 50 # generations\n",
    "PS = 5 # population size\n",
    "GP = 5 # generation patience\n",
    "MP = 0.1 # mutation probability\n",
    "GEF = .95 # good enough fitness\n",
    "\n",
    "exhausted_ind = False\n",
    "gen_wo_improvement = 0"
   ]
  },
  {
   "cell_type": "markdown",
   "metadata": {},
   "source": [
    "##### log"
   ]
  },
  {
   "cell_type": "code",
   "execution_count": 52,
   "metadata": {},
   "outputs": [],
   "source": [
    "def initialize_log(file_name:str, log: Union[List, Dict]):\n",
    "    \"\"\"initialize log from file, if it exists\"\"\"\n",
    "    if isinstance(log, list):\n",
    "        log = []\n",
    "    elif isinstance(log, dict):\n",
    "        log = {}\n",
    "        \n",
    "    if os.path.exists(file_name):\n",
    "        print(f\"Loading {file_name} from log.\")\n",
    "        with open(file_name, \"r\") as f:\n",
    "            log = yaml.load(f, Loader=yaml.FullLoader)\n",
    "    return log"
   ]
  },
  {
   "cell_type": "code",
   "execution_count": 103,
   "metadata": {},
   "outputs": [],
   "source": [
    "# !rm -r logs/\n",
    "# !mkdir -p logs"
   ]
  },
  {
   "cell_type": "code",
   "execution_count": 104,
   "metadata": {},
   "outputs": [],
   "source": [
    "population_log = r'logs/population.yml'\n",
    "population = initialize_log(population_log, [])\n",
    "\n",
    "best_fitness_by_gen_log = r'logs/best_fitness_by_gen.yml'\n",
    "best_fitness_by_gen = initialize_log(best_fitness_by_gen_log, [])\n",
    "\n",
    "avg_fitness_by_gen_log = r'logs/avg_fitness_by_gen.yml'\n",
    "avg_fitness_by_gen = initialize_log(avg_fitness_by_gen_log, [])\n",
    "\n",
    "pop_age_log = r'logs/pop_age.yml'\n",
    "pop_age = initialize_log(pop_age_log, {})\n",
    "\n",
    "fitness_score_log = r'logs/fitness_score.yml'\n",
    "fitness_score = initialize_log(r'logs/fitness_score.yml', {})"
   ]
  },
  {
   "cell_type": "markdown",
   "metadata": {},
   "source": [
    "##### population"
   ]
  },
  {
   "cell_type": "code",
   "execution_count": 105,
   "metadata": {},
   "outputs": [],
   "source": [
    "def generate_all_pairs(activation_fns, mini_batch_sizes, fitness_score=fitness_score):\n",
    "    \"\"\"generate all possible pairs of activation functions and mini-batch sizes as a shuffled queue\"\"\"\n",
    "    all_pairs = [encode_hyperparameters(fn, size) for fn in activation_fns for size in mini_batch_sizes]\n",
    "    all_pairs = [pair for pair in all_pairs if pair not in fitness_score]\n",
    "    return all_pairs\n",
    "\n",
    "all_pairs = generate_all_pairs(activation_fns, mini_batch_sizes)"
   ]
  },
  {
   "cell_type": "code",
   "execution_count": 106,
   "metadata": {},
   "outputs": [
    {
     "data": {
      "text/plain": [
       "3027"
      ]
     },
     "execution_count": 106,
     "metadata": {},
     "output_type": "execute_result"
    }
   ],
   "source": [
    "def enqueue_pairs(all_pairs):\n",
    "    \"\"\"shuffle the list of pairs and enqueue them into a queue\"\"\"\n",
    "    random.shuffle(all_pairs)\n",
    "    pairs_queue = queue.Queue()\n",
    "    for pair in all_pairs:\n",
    "        pairs_queue.put(pair)\n",
    "        \n",
    "    return pairs_queue\n",
    "    \n",
    "pairs_queue = enqueue_pairs(all_pairs)\n",
    "pairs_queue.qsize() # 3* (1024-16+1) = 3072"
   ]
  },
  {
   "cell_type": "code",
   "execution_count": null,
   "metadata": {},
   "outputs": [
    {
     "name": "stdout",
     "output_type": "stream",
     "text": [
      "Iteration 1: Dequeued pair - Activation Function: relu, Mini Batch Size: 986\n",
      "Iteration 2: Dequeued pair - Activation Function: relu, Mini Batch Size: 342\n",
      "Iteration 3: Dequeued pair - Activation Function: relu, Mini Batch Size: 761\n",
      "Iteration 4: Dequeued pair - Activation Function: relu, Mini Batch Size: 946\n",
      "Iteration 5: Dequeued pair - Activation Function: relu, Mini Batch Size: 371\n",
      "Iteration 6: Dequeued pair - Activation Function: relu, Mini Batch Size: 840\n",
      "Iteration 7: Dequeued pair - Activation Function: relu, Mini Batch Size: 385\n",
      "Iteration 8: Dequeued pair - Activation Function: relu, Mini Batch Size: 388\n",
      "Iteration 9: Dequeued pair - Activation Function: relu, Mini Batch Size: 1017\n",
      "Iteration 10: Dequeued pair - Activation Function: relu, Mini Batch Size: 987\n"
     ]
    }
   ],
   "source": [
    "# checking for randomness\n",
    "# num_iterations = 10\n",
    "# for i in range(num_iterations):\n",
    "#     if not all_pairs.empty():\n",
    "#         pair = decode_hyperparameters(all_pairs.get())\n",
    "#         print(f\"Iteration {i + 1}: Dequeued pair - Activation Function: {pair[0]}, Mini Batch Size: {pair[1]}\")\n",
    "#     else:\n",
    "#         print(\"Queue is empty.\")\n",
    "#         break"
   ]
  },
  {
   "cell_type": "code",
   "execution_count": 107,
   "metadata": {},
   "outputs": [],
   "source": [
    "def update_population(pairs_queue=pairs_queue, population=[], population_size=5):\n",
    "    \"\"\"generate a population of chromosomes, intended to be called for the following loop:\n",
    "        - we start off with an empty population at the beginning\n",
    "        - at each generation:\n",
    "            - if we exhaust all pairs: \n",
    "                - just continue with the current population\n",
    "            - else:\n",
    "                - add new chromosomes from the queue until we have enough\n",
    "            - we return the updated population and a flag indicating if we have exhausted all pairs\n",
    "    \"\"\"\n",
    "    \n",
    "    # error-handling\n",
    "    if population is None:\n",
    "        population = []\n",
    "    if pairs_queue is None:\n",
    "        raise ValueError(\"Queue not provided.\")\n",
    "\n",
    "    exhausted_ind = False\n",
    "\n",
    "    # add to population if not enough\n",
    "    while len(population) < population_size:\n",
    "        # all pairs are exhausted\n",
    "        if pairs_queue.empty(): \n",
    "            print(\"Queue is empty. Last population generated.\")\n",
    "            exhausted_ind = True\n",
    "            break\n",
    "        \n",
    "        chromosome = pairs_queue.get()\n",
    "        population.append(chromosome)\n",
    "    \n",
    "    return population, exhausted_ind"
   ]
  },
  {
   "cell_type": "markdown",
   "metadata": {},
   "source": [
    "###### quick test"
   ]
  },
  {
   "cell_type": "code",
   "execution_count": null,
   "metadata": {},
   "outputs": [
    {
     "name": "stdout",
     "output_type": "stream",
     "text": [
      "Population: ['0000101011100', '0011000100000', '0010111111011', '0000010001010', '0011011100011']\n"
     ]
    }
   ],
   "source": [
    "# # try the update population function\n",
    "# population, exhausted_ind = update_population(pairs_queue, fitness_score, population=[], population_size=5)\n",
    "# print(f\"Population: {population}\")"
   ]
  },
  {
   "cell_type": "code",
   "execution_count": null,
   "metadata": {},
   "outputs": [
    {
     "data": {
      "text/plain": [
       "(3022, False)"
      ]
     },
     "metadata": {},
     "output_type": "display_data"
    }
   ],
   "source": [
    "# pairs_queue.qsize(), exhausted_ind"
   ]
  },
  {
   "cell_type": "code",
   "execution_count": null,
   "metadata": {},
   "outputs": [],
   "source": [
    "# # add them to the fitness score\n",
    "# for chromosome in population:\n",
    "#     fitness_score[chromosome] = 0.8"
   ]
  },
  {
   "cell_type": "code",
   "execution_count": null,
   "metadata": {},
   "outputs": [
    {
     "name": "stdout",
     "output_type": "stream",
     "text": [
      "Population: ['0000011000001', '0000110100001', '0101110111101', '0010111101101', '0001110001110']\n"
     ]
    }
   ],
   "source": [
    "# # try again the function\n",
    "# population, exhausted_ind = update_population(pairs_queue, fitness_score, population=population, population_size=5)\n",
    "# print(f\"Population: {population}\")"
   ]
  },
  {
   "cell_type": "code",
   "execution_count": null,
   "metadata": {},
   "outputs": [
    {
     "data": {
      "text/plain": [
       "(3017, False)"
      ]
     },
     "metadata": {},
     "output_type": "display_data"
    }
   ],
   "source": [
    "# pairs_queue.qsize(), exhausted_ind"
   ]
  },
  {
   "cell_type": "markdown",
   "metadata": {},
   "source": [
    "##### main\n",
    "For the main function, we are running loops for generations `G` with the following termination criteria: \n",
    "    \n",
    "    - no improvement in population fitness score for `GP` generations\n",
    "    - reaching a certain number of iterations\n",
    "    - fitness is good enough\n",
    "    - (optinal) exhausted all pairs, implmented but not reasonable for this homework"
   ]
  },
  {
   "cell_type": "code",
   "execution_count": 116,
   "metadata": {},
   "outputs": [
    {
     "data": {
      "application/vnd.jupyter.widget-view+json": {
       "model_id": "7be495070ac74ee8af5f1c9fa039b494",
       "version_major": 2,
       "version_minor": 0
      },
      "text/plain": [
       "Generations:   0%|          | 0/47 [00:00<?, ?it/s]"
      ]
     },
     "metadata": {},
     "output_type": "display_data"
    },
    {
     "data": {
      "application/vnd.jupyter.widget-view+json": {
       "model_id": "5bc036448cae40b2ba2e77ac50c21753",
       "version_major": 2,
       "version_minor": 0
      },
      "text/plain": [
       "Chromosomes:   0%|          | 0/5 [00:00<?, ?it/s]"
      ]
     },
     "metadata": {},
     "output_type": "display_data"
    },
    {
     "name": "stdout",
     "output_type": "stream",
     "text": [
      "relu-788 has been visited. Fitness score: 0.829483151435852\n"
     ]
    },
    {
     "data": {
      "application/vnd.jupyter.widget-view+json": {
       "model_id": "928553ac6de14351ad7489c63d4ea3fd",
       "version_major": 2,
       "version_minor": 0
      },
      "text/plain": [
       "(a=tanh, m=20), Epochs::   0%|          | 0/2000 [00:00<?, ?it/s]"
      ]
     },
     "metadata": {},
     "output_type": "display_data"
    },
    {
     "name": "stdout",
     "output_type": "stream",
     "text": [
      "tanh-20 marked visited. Fitness score: 0.9551747441291809\n"
     ]
    },
    {
     "data": {
      "application/vnd.jupyter.widget-view+json": {
       "model_id": "4b5e3c632fef4b41a15b11f416927833",
       "version_major": 2,
       "version_minor": 0
      },
      "text/plain": [
       "(a=sigmoid, m=754), Epochs::   0%|          | 0/2000 [00:00<?, ?it/s]"
      ]
     },
     "metadata": {},
     "output_type": "display_data"
    },
    {
     "name": "stdout",
     "output_type": "stream",
     "text": [
      "sigmoid-754 marked visited. Fitness score: 0.0\n",
      "sigmoid-945 has been visited. Fitness score: 0.0\n",
      "sigmoid-589 has been visited. Fitness score: 0.0011049724416807294\n",
      "Terminates at 1th generation, good enough fitness 0.95 reached.\n"
     ]
    }
   ],
   "source": [
    "G -= len(best_fitness_by_gen) # skip iterated generations\n",
    "for g in tqdm(range(G), desc='Generations'):\n",
    "\n",
    "    # update population - fail-safe\n",
    "    population, exhausted_ind = update_population(pairs_queue, population, population_size=PS)        \n",
    "    with open(population_log, \"w\") as file:\n",
    "        yaml.dump(population, file)\n",
    "    \n",
    "    # update population age to log - fail-safe\n",
    "    if len(pop_age) > 0:\n",
    "        with open(pop_age_log, \"w\") as file:\n",
    "            yaml.dump(pop_age, file)\n",
    "    \n",
    "    # keep track of population fitness score\n",
    "    pop_fitness_score = {} # key: chromosome, value: fitness score\n",
    "    \n",
    "    # iterate the population, calculate the fitness score\n",
    "    for c in tqdm(population, desc='Chromosomes', leave=False):\n",
    "        \n",
    "        # decode the chromosome for activation function and mini-batch size\n",
    "        a, m = decode_hyperparameters(c)\n",
    "        \n",
    "        # for unvisited chromosomes:\n",
    "        # compute the validation F1 for ea. chromosomes at convergence, mark as visited\n",
    "        if c not in fitness_score: \n",
    "            f = train_and_eval(a, m) # f: fitness score, e: epochs\n",
    "            fitness_score[c] = f\n",
    "            # mark chromosomes visited\n",
    "            with open(fitness_score_log, \"a\") as file:\n",
    "                yaml.dump({c: f}, file)\n",
    "            print(f\"{a}-{m} marked visited. Fitness score: {f}\")\n",
    "        else: \n",
    "            f = fitness_score[c]\n",
    "            print(f\"{a}-{m} has been visited. Fitness score: {f}\")\n",
    "    \n",
    "        # update population fitness score and age\n",
    "        pop_fitness_score[c] = f\n",
    "        pop_age[c] = pop_age.get(c, 0) + 1\n",
    "        \n",
    "    # add the best fitness score per gen\n",
    "    best_fitness_by_gen.append(max(pop_fitness_score.values()))\n",
    "    with open(best_fitness_by_gen_log, \"w\") as file:\n",
    "        yaml.dump(best_fitness_by_gen, file)\n",
    "        \n",
    "    # add the average fitness score per gen\n",
    "    avg_fitness_by_gen.append(sum(pop_fitness_score.values())/len(pop_fitness_score))\n",
    "    with open(avg_fitness_by_gen_log, \"w\") as file:\n",
    "        yaml.dump(avg_fitness_by_gen, file)\n",
    "        \n",
    "    # break criteria: exhausted all pairs\n",
    "    if exhausted_ind: \n",
    "        print(f\"Termninates at {g+1}th generation, all pairs are exhausted.\")\n",
    "        break\n",
    "    \n",
    "    # break criteria: good enough fitness\n",
    "    curr_gen_best_fitness = best_fitness_by_gen[-1]\n",
    "    if curr_gen_best_fitness >= GEF:\n",
    "        print(f\"Terminates at {g+1}th generation, good enough fitness reached.\")\n",
    "        break\n",
    "    \n",
    "    # break criteria: no improvement in consecutive GP generations\n",
    "    if g >= GP: \n",
    "        prev_gens_best_fitness = max(best_fitness_by_gen[:-1])\n",
    "        if curr_gen_best_fitness <= prev_gens_best_fitness:\n",
    "            gen_wo_improvement += 1\n",
    "            if gen_wo_improvement >= GP:\n",
    "                print(f\"Terminates at {g + 1}th generation, no improvement in population over {GP} generations.\")\n",
    "                break\n",
    "        else:\n",
    "            gen_wo_improvement = 0\n",
    "    \n",
    "    # select parents - default to 2 parents\n",
    "    parents = roulette_wheel_selection(pop_fitness_score)\n",
    "    decoded_parents = [decode_hyperparameters(p) for p in parents]\n",
    "    print(f\"Parents: {decoded_parents}\")\n",
    "    \n",
    "    # produce offsprings\n",
    "    children = crossover(parents)\n",
    "    mutuated_children = [mutation(child, p=MP) for child in children]\n",
    "    decoded_mutated_children = [decode_hyperparameters(c) for c in mutuated_children]\n",
    "    print(f\"Mutated children: {decoded_mutated_children}\")\n",
    "    \n",
    "    # age-based seletion ->  new generation\n",
    "    age_based_selection(pop_age, mutuated_children, population)\n",
    "\n",
    "    \n",
    "    # remove duplicates to avoid imbreddings -> removed per recommendations from the office hours\n",
    "    # # we're already getting parents with replacement, trying more exploration instead of exploitation\n",
    "    # population = list(set(population))\n",
    "    "
   ]
  },
  {
   "cell_type": "markdown",
   "metadata": {},
   "source": [
    "Plot the average and the highest fitness score of the population versus the generation of the population."
   ]
  },
  {
   "cell_type": "markdown",
   "metadata": {},
   "source": [
    "##### report"
   ]
  },
  {
   "cell_type": "code",
   "execution_count": 54,
   "metadata": {},
   "outputs": [
    {
     "name": "stdout",
     "output_type": "stream",
     "text": [
      "Loading logs/best_fitness_by_gen.yml from log.\n"
     ]
    },
    {
     "data": {
      "text/plain": [
       "(0.0, 1.0)"
      ]
     },
     "execution_count": 54,
     "metadata": {},
     "output_type": "execute_result"
    },
    {
     "data": {
      "image/png": "[encoded data removed]",
      "text/plain": [
       "<Figure size 640x480 with 1 Axes>"
      ]
     },
     "metadata": {},
     "output_type": "display_data"
    }
   ],
   "source": [
    "# plot the highest fitness score by gen\n",
    "best_fitness_by_gen = initialize_log(r'logs/best_fitness_by_gen.yml', [])\n",
    "plt.plot(best_fitness_by_gen)\n",
    "plt.title(\"Highest Fitness Score by Generation\")\n",
    "plt.xlabel(\"Generation\")\n",
    "plt.ylim(0, 1)"
   ]
  },
  {
   "cell_type": "code",
   "execution_count": 53,
   "metadata": {},
   "outputs": [
    {
     "name": "stdout",
     "output_type": "stream",
     "text": [
      "Loading logs/avg_fitness_by_gen.yml from log.\n"
     ]
    },
    {
     "data": {
      "text/plain": [
       "(0.0, 1.0)"
      ]
     },
     "execution_count": 53,
     "metadata": {},
     "output_type": "execute_result"
    },
    {
     "data": {
      "image/png": "[encoded data removed]",
      "text/plain": [
       "<Figure size 640x480 with 1 Axes>"
      ]
     },
     "metadata": {},
     "output_type": "display_data"
    }
   ],
   "source": [
    "# plot the average best fitness score by gen\n",
    "avg_fitness_by_gen = initialize_log(r'logs/avg_fitness_by_gen.yml', [])\n",
    "plt.plot(avg_fitness_by_gen)\n",
    "plt.title(\"Average Fitness Score by Generation\")\n",
    "plt.xlabel(\"Generation\")\n",
    "plt.ylim(0, 1)"
   ]
  },
  {
   "cell_type": "markdown",
   "metadata": {},
   "source": [
    "Now, a very quick note about our plots. Though we have other termination criteria in-place, we ended up with  a very fast termination due to reaching a good enough fitness score in the third generation. Here, we see that the best keeps the upward trajectory, while average dips a little. My understanding is that genetic algo should favor exploration to exploitation at the beginning of the generation, and the ultimate goal should not be about having a bunch of higher than average chromosomes who most likely suffer from imbredding - it should be about having a very good, cream of the corp chromosome, even though others in the chromosome might or might not be less than ideal. And that explains what we see here - the model is set on the next generation \"inheriting\" the best qualities (thus the increase in best) while exploring other options (which didn't end up quite well, thus the decrease in average for a bit). If we didn't end up on a GFE, we will see more generations, and I would expect that the average goes up as well. \n",
    "\n",
    "Note that, since we have a fix one point crossover with only two parents (who are also likely to be the same), with the right roulette wheel, we effectively synthesizes  elitism - the selection strategy that keeps the best individuals from one generation to the next. Such a strategy also speeds up the convergence of the algorithm."
   ]
  },
  {
   "cell_type": "markdown",
   "metadata": {},
   "source": [
    "Select the vector with the highest fitness score in the last generation of the population. Report the hyperparameters"
   ]
  },
  {
   "cell_type": "code",
   "execution_count": 119,
   "metadata": {},
   "outputs": [
    {
     "name": "stdout",
     "output_type": "stream",
     "text": [
      "Loading logs/population.yml from log.\n",
      "Vector with the highest fitness score: 0010000000100\n",
      "Hyperparameter: Activation Function: tanh, Mini Batch Size: 20\n"
     ]
    }
   ],
   "source": [
    "# last generation\n",
    "population = initialize_log(r'logs/population.yml', [])\n",
    "# find highest fitness score, with keys in population\n",
    "max_fitness = 0\n",
    "for c in set(population) & set(fitness_score.keys()):\n",
    "    if fitness_score[c] > max_fitness:\n",
    "        max_fitness = fitness_score[c]\n",
    "        best_chromosome = c\n",
    "# report hyperparameters\n",
    "best_a, best_m = decode_hyperparameters(best_chromosome)\n",
    "print(\"Vector with the highest fitness score:\", best_chromosome)\n",
    "print(f\"Hyperparameter: Activation Function: {best_a}, Mini Batch Size: {best_m}\")"
   ]
  },
  {
   "cell_type": "markdown",
   "metadata": {},
   "source": [
    "Train the model on the training and validation data using the selected hyperparameters. \n",
    "\n",
    "Here, we are bringning back the original `train_X.npy` (train+val for genetics algorithm) as our training data. We then check for best parameters based on the fitness score. "
   ]
  },
  {
   "cell_type": "code",
   "execution_count": 172,
   "metadata": {},
   "outputs": [
    {
     "name": "stdout",
     "output_type": "stream",
     "text": [
      "Loading logs/fitness_score.yml from log.\n"
     ]
    },
    {
     "data": {
      "text/plain": [
       "('tanh', 20, 0.9551747441291809)"
      ]
     },
     "execution_count": 172,
     "metadata": {},
     "output_type": "execute_result"
    }
   ],
   "source": [
    "# select the best hyperparameters\n",
    "fitness_score = initialize_log(r'logs/fitness_score.yml', {})\n",
    "best_chromosome = max(fitness_score, key=fitness_score.get)\n",
    "best_a, best_m = decode_hyperparameters(best_chromosome)\n",
    "best_a, best_m, fitness_score[best_chromosome]"
   ]
  },
  {
   "cell_type": "code",
   "execution_count": 173,
   "metadata": {},
   "outputs": [],
   "source": [
    "# reload the data\n",
    "X_train = np.load('data/train_X.npy')\n",
    "X_test = np.load('data/test_X.npy')\n",
    "y_train = np.load('data/train_y.npy')\n",
    "y_test = np.load('data/test_y.npy')\n",
    "X_train.shape, X_test.shape, y_train.shape, y_test.shape # 50/50 split for train/test\n",
    "\n",
    "# reshape for NN input\n",
    "X_train = np.reshape(X_train, (X_train.shape[0], -1))\n",
    "X_test = np.reshape(X_test, (X_test.shape[0], -1))\n",
    "\n",
    "# one-hot encode the labels\n",
    "y_train_one_hot = one_hot_matrix(y_train)\n",
    "y_test_one_hot = one_hot_matrix(y_test)"
   ]
  },
  {
   "cell_type": "code",
   "execution_count": 174,
   "metadata": {},
   "outputs": [
    {
     "data": {
      "application/vnd.jupyter.widget-view+json": {
       "model_id": "c4fa0172b3744b33b1fcb4f8ab1c2234",
       "version_major": 2,
       "version_minor": 0
      },
      "text/plain": [
       "(a=tanh, m=20), Epochs::   0%|          | 0/2000 [00:00<?, ?it/s]"
      ]
     },
     "metadata": {},
     "output_type": "display_data"
    }
   ],
   "source": [
    "# train the model with the best hyperparameters\n",
    "E = 2000\n",
    "model = get_model(activation_fn=best_a)\n",
    "# early_stopping = EarlyStopping(monitor='loss', patience=P, restore_best_weights=True)\n",
    "\n",
    "# Create tqdm progress bar for epochs\n",
    "epochs_iterator = tqdm(range(E), desc=f'(a={best_a}, m={best_m}), Epochs:', leave=False)\n",
    "training_f1 = []\n",
    "\n",
    "for epoch in epochs_iterator:\n",
    "    # Fit the model for each epoch\n",
    "    history = model.fit(\n",
    "        X_train,\n",
    "        y_train_one_hot,\n",
    "        epochs=1,  # 1 epoch at a time to update tqdm\n",
    "        batch_size=best_m,\n",
    "        # callbacks=[early_stopping], # run for the entirety\n",
    "        verbose=0\n",
    "    )\n",
    "    training_f1.append(history.history['f1_score'][-1])\n",
    "    \n",
    "    # Update tqdm with F1 score and loss for the last epoch\n",
    "    epochs_iterator.set_postfix(\n",
    "        {'f1_score': history.history['f1_score'][-1], 'loss': history.history['loss'][-1]}\n",
    "    )"
   ]
  },
  {
   "cell_type": "code",
   "execution_count": 180,
   "metadata": {},
   "outputs": [],
   "source": [
    "# save the files\n",
    "model.save(f\"models/GA-{best_a}_{best_m}.h5\")"
   ]
  },
  {
   "cell_type": "markdown",
   "metadata": {},
   "source": [
    "Evaluate the model on the test data. Plot the training F1 score versus the training epochs. Report the test F1 score."
   ]
  },
  {
   "cell_type": "code",
   "execution_count": 177,
   "metadata": {},
   "outputs": [],
   "source": [
    "model = tf.keras.models.load_model(f\"models/GA-{best_a}_{best_m}.h5\")"
   ]
  },
  {
   "cell_type": "code",
   "execution_count": 178,
   "metadata": {},
   "outputs": [
    {
     "name": "stdout",
     "output_type": "stream",
     "text": [
      "33/33 [==============================] - 0s 2ms/step\n",
      "Macro average test F1 score: 0.9581721252501824\n"
     ]
    }
   ],
   "source": [
    "# evaluate the model\n",
    "y_pred_prob = model.predict(X_test)\n",
    "y_pred = np.argmax(y_pred_prob, axis=1)\n",
    "y_true = y_test\n",
    "f1 = f1_score(y_true, y_pred, average='macro')\n",
    "print('Macro average test F1 score:', f1)"
   ]
  },
  {
   "cell_type": "code",
   "execution_count": 126,
   "metadata": {},
   "outputs": [
    {
     "data": {
      "image/png": "[encoded data removed]",
      "text/plain": [
       "<Figure size 640x480 with 1 Axes>"
      ]
     },
     "metadata": {},
     "output_type": "display_data"
    }
   ],
   "source": [
    "# plot the training F1 s score versus the training epochs\n",
    "plt.plot(training_f1)\n",
    "plt.title(\"Training F1 Score\")\n",
    "plt.xlabel(\"Epoch\")\n",
    "plt.ylabel(\"F1 Score\")\n",
    "plt.show()"
   ]
  },
  {
   "cell_type": "markdown",
   "metadata": {},
   "source": [
    "### Bayesian Optimization\n",
    "\n",
    "We will use the package [here](https://github.com/bayesian-optimization) to apply Bayesian Optimization to fine tune the mini-batch size Band the activation function. "
   ]
  },
  {
   "cell_type": "markdown",
   "metadata": {},
   "source": [
    "The black-box function should be defined as the validation F1 score at the convergence of the model trained by the specified Band the activation function. \n",
    "\n",
    "Here - we are using the same function as from Genetic Algorithm as our black box, which returns validation F1 score and use early stopping to check for convergence."
   ]
  },
  {
   "cell_type": "code",
   "execution_count": 10,
   "metadata": {},
   "outputs": [],
   "source": [
    "activation_fn_mapping = {\n",
    "    0: 'relu',\n",
    "    1: 'sigmoid',\n",
    "    2: 'tanh'\n",
    "}"
   ]
  },
  {
   "cell_type": "code",
   "execution_count": 11,
   "metadata": {},
   "outputs": [],
   "source": [
    "# black-box function is the same as train_and_eval\n",
    "def black_box_function(a, m):\n",
    "    return train_and_eval(a, m)"
   ]
  },
  {
   "cell_type": "markdown",
   "metadata": {},
   "source": [
    "According to [doc](notebooks/advanced-tour.ipynb), \"there is no principled way of dealing with discrete parameters using this package\", and thus, we are using a wrapper function that converts them as suggested."
   ]
  },
  {
   "cell_type": "code",
   "execution_count": 15,
   "metadata": {},
   "outputs": [],
   "source": [
    "# wrapper to make sure we are passing in the right types\n",
    "def func_to_be_optimized(activation_fn_cd: float, batch_size:float) -> float:\n",
    "    \"\"\"wrapper function for the black-box function to that we optimize for discrete values\"\"\"\n",
    "    if activation_fn_cd == 3: activation_fn_cd = 2 # tanh is the last one\n",
    "    a = activation_fn_mapping.get(int(activation_fn_cd))\n",
    "    m = int(batch_size)\n",
    "    return black_box_function(a, m)"
   ]
  },
  {
   "cell_type": "code",
   "execution_count": 16,
   "metadata": {},
   "outputs": [],
   "source": [
    "# Define the search space\n",
    "pbounds = {'activation_fn_cd': (0,3), 'batch_size': (16, 1024)} # added 3 so that we can get to tanh when taking int"
   ]
  },
  {
   "cell_type": "code",
   "execution_count": 37,
   "metadata": {},
   "outputs": [],
   "source": [
    "# Create an instance of BayesianOptimization\n",
    "optimizer = BayesianOptimization(\n",
    "    f=func_to_be_optimized,\n",
    "    pbounds=pbounds,\n",
    "    random_state=RANDOM_STATE,\n",
    ")"
   ]
  },
  {
   "cell_type": "code",
   "execution_count": 150,
   "metadata": {},
   "outputs": [
    {
     "data": {
      "text/plain": [
       "11"
      ]
     },
     "execution_count": 150,
     "metadata": {},
     "output_type": "execute_result"
    }
   ],
   "source": [
    "# visited_cnt = len(fitness_score)"
   ]
  },
  {
   "cell_type": "markdown",
   "metadata": {},
   "source": [
    "Report the progress output and the final values of the hyperparameters found by the algorithm. \n",
    "\n",
    "According to [doc](notebooks/basic-tour.ipynb), `n_iter` is how many steps of bayesian optimization we want to perform and `init_points` are how many steps of random we want to perform - which means the the total iterations would be the sum of these two numbers. The Genetic Algorithm approach visited 11 pairs. So we hope that giving a 15 iterations try would be reasonable."
   ]
  },
  {
   "cell_type": "code",
   "execution_count": 20,
   "metadata": {},
   "outputs": [],
   "source": [
    "## repeat load the data process - reshape, train/val split and one-hot encode\n",
    "# load data\n",
    "X_train = np.load('data/train_X.npy')\n",
    "X_test = np.load('data/test_X.npy')\n",
    "y_train = np.load('data/train_y.npy')\n",
    "y_test = np.load('data/test_y.npy')\n",
    "\n",
    "# reshape for NN input\n",
    "X_train = np.reshape(X_train, (X_train.shape[0], -1))\n",
    "X_test = np.reshape(X_test, (X_test.shape[0], -1))\n",
    "\n",
    "# 80/20 train_val split\n",
    "X_train, X_val, y_train, y_val = train_test_split(X_train, y_train, test_size=0.2, random_state=RANDOM_STATE)\n",
    "\n",
    "# one-hot encode\n",
    "y_train_one_hot = one_hot_matrix(y_train)\n",
    "y_val_one_hot = one_hot_matrix(y_val)\n",
    "y_test_one_hot = one_hot_matrix(y_test)"
   ]
  },
  {
   "cell_type": "code",
   "execution_count": 21,
   "metadata": {},
   "outputs": [],
   "source": [
    "E = 2000 # epochs to run"
   ]
  },
  {
   "cell_type": "code",
   "execution_count": 22,
   "metadata": {},
   "outputs": [],
   "source": [
    "P = 10 # patience\n",
    "early_stopping = EarlyStopping(monitor='val_loss', \n",
    "                               patience=P, \n",
    "                               min_delta=0.001,\n",
    "                               restore_best_weights=True)"
   ]
  },
  {
   "cell_type": "code",
   "execution_count": 28,
   "metadata": {},
   "outputs": [
    {
     "name": "stdout",
     "output_type": "stream",
     "text": [
      "|   iter    |  target   | activa... | batch_... |\n",
      "-------------------------------------------------\n"
     ]
    },
    {
     "data": {
      "application/vnd.jupyter.widget-view+json": {
       "model_id": "e1153cef799a4ebdaef4ccf47de32e60",
       "version_major": 2,
       "version_minor": 0
      },
      "text/plain": [
       "(a=sigmoid, m=974), Epochs::   0%|          | 0/2000 [00:00<?, ?it/s]"
      ]
     },
     "metadata": {},
     "output_type": "display_data"
    },
    {
     "name": "stdout",
     "output_type": "stream",
     "text": [
      "| \u001b[0m1        \u001b[0m | \u001b[0m0.0      \u001b[0m | \u001b[0m1.124    \u001b[0m | \u001b[0m974.3    \u001b[0m |\n"
     ]
    },
    {
     "data": {
      "application/vnd.jupyter.widget-view+json": {
       "model_id": "e891ad79afcf43419e5849dd5cde5d5b",
       "version_major": 2,
       "version_minor": 0
      },
      "text/plain": [
       "(a=tanh, m=619), Epochs::   0%|          | 0/2000 [00:00<?, ?it/s]"
      ]
     },
     "metadata": {},
     "output_type": "display_data"
    },
    {
     "name": "stdout",
     "output_type": "stream",
     "text": [
      "| \u001b[95m2        \u001b[0m | \u001b[95m0.8474   \u001b[0m | \u001b[95m2.196    \u001b[0m | \u001b[95m619.4    \u001b[0m |\n"
     ]
    },
    {
     "data": {
      "application/vnd.jupyter.widget-view+json": {
       "model_id": "dcc69e84fd0c465ca5552dd216f5c757",
       "version_major": 2,
       "version_minor": 0
      },
      "text/plain": [
       "(a=relu, m=173), Epochs::   0%|          | 0/2000 [00:00<?, ?it/s]"
      ]
     },
     "metadata": {},
     "output_type": "display_data"
    },
    {
     "name": "stdout",
     "output_type": "stream",
     "text": [
      "| \u001b[95m3        \u001b[0m | \u001b[95m0.9028   \u001b[0m | \u001b[95m0.4681   \u001b[0m | \u001b[95m173.2    \u001b[0m |\n"
     ]
    },
    {
     "data": {
      "application/vnd.jupyter.widget-view+json": {
       "model_id": "cd36467788534e2db3b320fe520c9a30",
       "version_major": 2,
       "version_minor": 0
      },
      "text/plain": [
       "(a=relu, m=889), Epochs::   0%|          | 0/2000 [00:00<?, ?it/s]"
      ]
     },
     "metadata": {},
     "output_type": "display_data"
    },
    {
     "name": "stdout",
     "output_type": "stream",
     "text": [
      "| \u001b[0m4        \u001b[0m | \u001b[0m0.8028   \u001b[0m | \u001b[0m0.1743   \u001b[0m | \u001b[0m889.1    \u001b[0m |\n"
     ]
    },
    {
     "data": {
      "application/vnd.jupyter.widget-view+json": {
       "model_id": "217b1067a25140a5a7d446c7dd7c2257",
       "version_major": 2,
       "version_minor": 0
      },
      "text/plain": [
       "(a=sigmoid, m=729), Epochs::   0%|          | 0/2000 [00:00<?, ?it/s]"
      ]
     },
     "metadata": {},
     "output_type": "display_data"
    },
    {
     "name": "stdout",
     "output_type": "stream",
     "text": [
      "| \u001b[0m5        \u001b[0m | \u001b[0m0.0      \u001b[0m | \u001b[0m1.803    \u001b[0m | \u001b[0m729.7    \u001b[0m |\n"
     ]
    },
    {
     "data": {
      "application/vnd.jupyter.widget-view+json": {
       "model_id": "2486d16db75b4ed2a31f58ce6b10d0c1",
       "version_major": 2,
       "version_minor": 0
      },
      "text/plain": [
       "(a=relu, m=171), Epochs::   0%|          | 0/2000 [00:00<?, ?it/s]"
      ]
     },
     "metadata": {},
     "output_type": "display_data"
    },
    {
     "name": "stdout",
     "output_type": "stream",
     "text": [
      "| \u001b[95m6        \u001b[0m | \u001b[95m0.9039   \u001b[0m | \u001b[95m0.6058   \u001b[0m | \u001b[95m171.9    \u001b[0m |\n"
     ]
    },
    {
     "data": {
      "application/vnd.jupyter.widget-view+json": {
       "model_id": "a775c5655d414852a99574a5501d665b",
       "version_major": 2,
       "version_minor": 0
      },
      "text/plain": [
       "(a=tanh, m=547), Epochs::   0%|          | 0/2000 [00:00<?, ?it/s]"
      ]
     },
     "metadata": {},
     "output_type": "display_data"
    },
    {
     "name": "stdout",
     "output_type": "stream",
     "text": [
      "| \u001b[0m7        \u001b[0m | \u001b[0m0.854    \u001b[0m | \u001b[0m2.977    \u001b[0m | \u001b[0m547.7    \u001b[0m |\n"
     ]
    },
    {
     "data": {
      "application/vnd.jupyter.widget-view+json": {
       "model_id": "9f35328df2624f7fa9c1a48976e9e3f8",
       "version_major": 2,
       "version_minor": 0
      },
      "text/plain": [
       "(a=relu, m=69), Epochs::   0%|          | 0/2000 [00:00<?, ?it/s]"
      ]
     },
     "metadata": {},
     "output_type": "display_data"
    },
    {
     "name": "stdout",
     "output_type": "stream",
     "text": [
      "| \u001b[95m8        \u001b[0m | \u001b[95m0.9255   \u001b[0m | \u001b[95m0.02854  \u001b[0m | \u001b[95m69.92    \u001b[0m |\n"
     ]
    },
    {
     "data": {
      "application/vnd.jupyter.widget-view+json": {
       "model_id": "41bf6ccad4864c5a8bd706eb117fa852",
       "version_major": 2,
       "version_minor": 0
      },
      "text/plain": [
       "(a=tanh, m=296), Epochs::   0%|          | 0/2000 [00:00<?, ?it/s]"
      ]
     },
     "metadata": {},
     "output_type": "display_data"
    },
    {
     "name": "stdout",
     "output_type": "stream",
     "text": [
      "| \u001b[0m9        \u001b[0m | \u001b[0m0.8891   \u001b[0m | \u001b[0m3.0      \u001b[0m | \u001b[0m297.0    \u001b[0m |\n"
     ]
    },
    {
     "data": {
      "application/vnd.jupyter.widget-view+json": {
       "model_id": "5f95dc1d561d4cce87f007b414c6f041",
       "version_major": 2,
       "version_minor": 0
      },
      "text/plain": [
       "(a=tanh, m=400), Epochs::   0%|          | 0/2000 [00:00<?, ?it/s]"
      ]
     },
     "metadata": {},
     "output_type": "display_data"
    },
    {
     "name": "stdout",
     "output_type": "stream",
     "text": [
      "| \u001b[0m10       \u001b[0m | \u001b[0m0.8711   \u001b[0m | \u001b[0m2.776    \u001b[0m | \u001b[0m400.4    \u001b[0m |\n"
     ]
    },
    {
     "data": {
      "application/vnd.jupyter.widget-view+json": {
       "model_id": "6f38306cc4934c58ba45d8a4083160fa",
       "version_major": 2,
       "version_minor": 0
      },
      "text/plain": [
       "(a=relu, m=471), Epochs::   0%|          | 0/2000 [00:00<?, ?it/s]"
      ]
     },
     "metadata": {},
     "output_type": "display_data"
    },
    {
     "name": "stdout",
     "output_type": "stream",
     "text": [
      "| \u001b[0m11       \u001b[0m | \u001b[0m0.8658   \u001b[0m | \u001b[0m0.0      \u001b[0m | \u001b[0m472.0    \u001b[0m |\n"
     ]
    },
    {
     "data": {
      "application/vnd.jupyter.widget-view+json": {
       "model_id": "03a46d95be4d4eb5b190ad4e45fa53a3",
       "version_major": 2,
       "version_minor": 0
      },
      "text/plain": [
       "(a=sigmoid, m=16), Epochs::   0%|          | 0/2000 [00:00<?, ?it/s]"
      ]
     },
     "metadata": {},
     "output_type": "display_data"
    },
    {
     "name": "stdout",
     "output_type": "stream",
     "text": [
      "| \u001b[0m12       \u001b[0m | \u001b[0m0.9248   \u001b[0m | \u001b[0m1.198    \u001b[0m | \u001b[0m16.04    \u001b[0m |\n"
     ]
    },
    {
     "data": {
      "application/vnd.jupyter.widget-view+json": {
       "model_id": "009a8698c9564cc2a2ea8fe4e13990a6",
       "version_major": 2,
       "version_minor": 0
      },
      "text/plain": [
       "(a=tanh, m=243), Epochs::   0%|          | 0/2000 [00:00<?, ?it/s]"
      ]
     },
     "metadata": {},
     "output_type": "display_data"
    },
    {
     "name": "stdout",
     "output_type": "stream",
     "text": [
      "| \u001b[0m13       \u001b[0m | \u001b[0m0.8957   \u001b[0m | \u001b[0m2.671    \u001b[0m | \u001b[0m243.6    \u001b[0m |\n"
     ]
    },
    {
     "data": {
      "application/vnd.jupyter.widget-view+json": {
       "model_id": "9cf533e059034a94a0bbf4f1ec8e13ed",
       "version_major": 2,
       "version_minor": 0
      },
      "text/plain": [
       "(a=tanh, m=838), Epochs::   0%|          | 0/2000 [00:00<?, ?it/s]"
      ]
     },
     "metadata": {},
     "output_type": "display_data"
    },
    {
     "name": "stdout",
     "output_type": "stream",
     "text": [
      "| \u001b[0m14       \u001b[0m | \u001b[0m0.8254   \u001b[0m | \u001b[0m3.0      \u001b[0m | \u001b[0m838.7    \u001b[0m |\n"
     ]
    },
    {
     "data": {
      "application/vnd.jupyter.widget-view+json": {
       "model_id": "55addce195724dceafddd3de11919678",
       "version_major": 2,
       "version_minor": 0
      },
      "text/plain": [
       "(a=relu, m=349), Epochs::   0%|          | 0/2000 [00:00<?, ?it/s]"
      ]
     },
     "metadata": {},
     "output_type": "display_data"
    },
    {
     "name": "stdout",
     "output_type": "stream",
     "text": [
      "| \u001b[0m15       \u001b[0m | \u001b[0m0.8776   \u001b[0m | \u001b[0m0.0      \u001b[0m | \u001b[0m349.1    \u001b[0m |\n",
      "=================================================\n",
      "Best Hyperparameters: {'activation_fn_cd': 0.0285430826314359, 'batch_size': 69.91754303513063}\n"
     ]
    }
   ],
   "source": [
    "# Perform the optimization\n",
    "optimizer.maximize(init_points=5, n_iter=10)\n",
    "\n",
    "# Access the best parameters found\n",
    "best_params = optimizer.max['params']\n",
    "print(\"Best Hyperparameters:\", best_params)"
   ]
  },
  {
   "cell_type": "code",
   "execution_count": 35,
   "metadata": {},
   "outputs": [
    {
     "name": "stdout",
     "output_type": "stream",
     "text": [
      "Best Hyperparameters: relu 69\n"
     ]
    }
   ],
   "source": [
    "best_a = activation_fn_mapping.get(int(best_params['activation_fn_cd']))\n",
    "best_m = int(best_params['batch_size'])\n",
    "print(\"Best Hyperparameters:\", best_a, best_m)"
   ]
  },
  {
   "cell_type": "markdown",
   "metadata": {},
   "source": [
    "Based on the guidance from the office hour, we are trying to see if we can get a better result (i.e., validation macro average F1 closer to .95) with other methods. Options include trying different seeds or increasing iteration. Here, we try probing from our best parameters from the Genetic Algorithm as an alternative."
   ]
  },
  {
   "cell_type": "code",
   "execution_count": 32,
   "metadata": {},
   "outputs": [],
   "source": [
    "del optimizer # fresh start"
   ]
  },
  {
   "cell_type": "code",
   "execution_count": 38,
   "metadata": {},
   "outputs": [],
   "source": [
    "# Create an instance of BayesianOptimization\n",
    "optimizer = BayesianOptimization(\n",
    "    f=func_to_be_optimized,\n",
    "    pbounds=pbounds,\n",
    "    random_state=RANDOM_STATE,\n",
    ")"
   ]
  },
  {
   "cell_type": "code",
   "execution_count": 39,
   "metadata": {},
   "outputs": [],
   "source": [
    "# probe the best parameters - e.g., winning strategy from Genetic Algorithm\n",
    "optimizer.probe(\n",
    "    params={'activation_fn_cd': 2, \"batch_size\": 20},\n",
    "    lazy=True,\n",
    ")"
   ]
  },
  {
   "cell_type": "code",
   "execution_count": 40,
   "metadata": {},
   "outputs": [
    {
     "name": "stdout",
     "output_type": "stream",
     "text": [
      "|   iter    |  target   | activa... | batch_... |\n",
      "-------------------------------------------------\n"
     ]
    },
    {
     "data": {
      "application/vnd.jupyter.widget-view+json": {
       "model_id": "607c7fd6930643ea924ffabbff5b5484",
       "version_major": 2,
       "version_minor": 0
      },
      "text/plain": [
       "(a=tanh, m=20), Epochs::   0%|          | 0/2000 [00:00<?, ?it/s]"
      ]
     },
     "metadata": {},
     "output_type": "display_data"
    },
    {
     "name": "stdout",
     "output_type": "stream",
     "text": [
      "| \u001b[0m1        \u001b[0m | \u001b[0m0.9491   \u001b[0m | \u001b[0m2.0      \u001b[0m | \u001b[0m20.0     \u001b[0m |\n"
     ]
    },
    {
     "data": {
      "application/vnd.jupyter.widget-view+json": {
       "model_id": "fb9bfdf1613a4180a16a58b0bf8d47df",
       "version_major": 2,
       "version_minor": 0
      },
      "text/plain": [
       "(a=sigmoid, m=974), Epochs::   0%|          | 0/2000 [00:00<?, ?it/s]"
      ]
     },
     "metadata": {},
     "output_type": "display_data"
    },
    {
     "name": "stdout",
     "output_type": "stream",
     "text": [
      "| \u001b[0m2        \u001b[0m | \u001b[0m0.0      \u001b[0m | \u001b[0m1.124    \u001b[0m | \u001b[0m974.3    \u001b[0m |\n"
     ]
    },
    {
     "data": {
      "application/vnd.jupyter.widget-view+json": {
       "model_id": "521a819216ca457ab78bfa81e02d5c6e",
       "version_major": 2,
       "version_minor": 0
      },
      "text/plain": [
       "(a=tanh, m=619), Epochs::   0%|          | 0/2000 [00:00<?, ?it/s]"
      ]
     },
     "metadata": {},
     "output_type": "display_data"
    },
    {
     "name": "stdout",
     "output_type": "stream",
     "text": [
      "| \u001b[0m3        \u001b[0m | \u001b[0m0.8523   \u001b[0m | \u001b[0m2.196    \u001b[0m | \u001b[0m619.4    \u001b[0m |\n"
     ]
    },
    {
     "data": {
      "application/vnd.jupyter.widget-view+json": {
       "model_id": "cdf2f3591688485ba4ad9da6863e47f0",
       "version_major": 2,
       "version_minor": 0
      },
      "text/plain": [
       "(a=relu, m=173), Epochs::   0%|          | 0/2000 [00:00<?, ?it/s]"
      ]
     },
     "metadata": {},
     "output_type": "display_data"
    },
    {
     "name": "stdout",
     "output_type": "stream",
     "text": [
      "| \u001b[0m4        \u001b[0m | \u001b[0m0.9031   \u001b[0m | \u001b[0m0.4681   \u001b[0m | \u001b[0m173.2    \u001b[0m |\n"
     ]
    },
    {
     "data": {
      "application/vnd.jupyter.widget-view+json": {
       "model_id": "c1867ad51a904004b3232b1c64459da5",
       "version_major": 2,
       "version_minor": 0
      },
      "text/plain": [
       "(a=relu, m=889), Epochs::   0%|          | 0/2000 [00:00<?, ?it/s]"
      ]
     },
     "metadata": {},
     "output_type": "display_data"
    },
    {
     "name": "stdout",
     "output_type": "stream",
     "text": [
      "| \u001b[0m5        \u001b[0m | \u001b[0m0.8031   \u001b[0m | \u001b[0m0.1743   \u001b[0m | \u001b[0m889.1    \u001b[0m |\n"
     ]
    },
    {
     "data": {
      "application/vnd.jupyter.widget-view+json": {
       "model_id": "ecc920e4248a4233b298adbac6313376",
       "version_major": 2,
       "version_minor": 0
      },
      "text/plain": [
       "(a=sigmoid, m=729), Epochs::   0%|          | 0/2000 [00:00<?, ?it/s]"
      ]
     },
     "metadata": {},
     "output_type": "display_data"
    },
    {
     "name": "stdout",
     "output_type": "stream",
     "text": [
      "| \u001b[0m6        \u001b[0m | \u001b[0m0.0      \u001b[0m | \u001b[0m1.803    \u001b[0m | \u001b[0m729.7    \u001b[0m |\n"
     ]
    },
    {
     "data": {
      "application/vnd.jupyter.widget-view+json": {
       "model_id": "afac0f489eb24ee1ace4dec19263cdda",
       "version_major": 2,
       "version_minor": 0
      },
      "text/plain": [
       "(a=relu, m=19), Epochs::   0%|          | 0/2000 [00:00<?, ?it/s]"
      ]
     },
     "metadata": {},
     "output_type": "display_data"
    },
    {
     "name": "stdout",
     "output_type": "stream",
     "text": [
      "| \u001b[95m7        \u001b[0m | \u001b[95m0.9518   \u001b[0m | \u001b[95m0.6279   \u001b[0m | \u001b[95m19.75    \u001b[0m |\n"
     ]
    },
    {
     "data": {
      "application/vnd.jupyter.widget-view+json": {
       "model_id": "dbc35db34f9d4ce9919559ba8ceffa49",
       "version_major": 2,
       "version_minor": 0
      },
      "text/plain": [
       "(a=relu, m=94), Epochs::   0%|          | 0/2000 [00:00<?, ?it/s]"
      ]
     },
     "metadata": {},
     "output_type": "display_data"
    },
    {
     "name": "stdout",
     "output_type": "stream",
     "text": [
      "| \u001b[0m8        \u001b[0m | \u001b[0m0.9145   \u001b[0m | \u001b[0m0.08606  \u001b[0m | \u001b[0m94.76    \u001b[0m |\n"
     ]
    },
    {
     "data": {
      "application/vnd.jupyter.widget-view+json": {
       "model_id": "e74591160b4d4c0e8e49a1aab0af6db8",
       "version_major": 2,
       "version_minor": 0
      },
      "text/plain": [
       "(a=sigmoid, m=527), Epochs::   0%|          | 0/2000 [00:00<?, ?it/s]"
      ]
     },
     "metadata": {},
     "output_type": "display_data"
    },
    {
     "name": "stdout",
     "output_type": "stream",
     "text": [
      "| \u001b[0m9        \u001b[0m | \u001b[0m0.09284  \u001b[0m | \u001b[0m1.747    \u001b[0m | \u001b[0m527.7    \u001b[0m |\n"
     ]
    },
    {
     "data": {
      "application/vnd.jupyter.widget-view+json": {
       "model_id": "16a854acd2614e57b652e912175fe1ed",
       "version_major": 2,
       "version_minor": 0
      },
      "text/plain": [
       "(a=tanh, m=251), Epochs::   0%|          | 0/2000 [00:00<?, ?it/s]"
      ]
     },
     "metadata": {},
     "output_type": "display_data"
    },
    {
     "name": "stdout",
     "output_type": "stream",
     "text": [
      "| \u001b[0m10       \u001b[0m | \u001b[0m0.8954   \u001b[0m | \u001b[0m2.985    \u001b[0m | \u001b[0m251.9    \u001b[0m |\n"
     ]
    },
    {
     "data": {
      "application/vnd.jupyter.widget-view+json": {
       "model_id": "744d096e08434ebd899a732fced08c93",
       "version_major": 2,
       "version_minor": 0
      },
      "text/plain": [
       "(a=relu, m=334), Epochs::   0%|          | 0/2000 [00:00<?, ?it/s]"
      ]
     },
     "metadata": {},
     "output_type": "display_data"
    },
    {
     "name": "stdout",
     "output_type": "stream",
     "text": [
      "| \u001b[0m11       \u001b[0m | \u001b[0m0.8861   \u001b[0m | \u001b[0m0.0      \u001b[0m | \u001b[0m334.6    \u001b[0m |\n"
     ]
    },
    {
     "data": {
      "application/vnd.jupyter.widget-view+json": {
       "model_id": "eb18d166f1b04ea687557225e61e2d85",
       "version_major": 2,
       "version_minor": 0
      },
      "text/plain": [
       "(a=tanh, m=402), Epochs::   0%|          | 0/2000 [00:00<?, ?it/s]"
      ]
     },
     "metadata": {},
     "output_type": "display_data"
    },
    {
     "name": "stdout",
     "output_type": "stream",
     "text": [
      "| \u001b[0m12       \u001b[0m | \u001b[0m0.8745   \u001b[0m | \u001b[0m3.0      \u001b[0m | \u001b[0m402.8    \u001b[0m |\n"
     ]
    },
    {
     "data": {
      "application/vnd.jupyter.widget-view+json": {
       "model_id": "928f3902cdf84daeaad4cb34cef0e3fb",
       "version_major": 2,
       "version_minor": 0
      },
      "text/plain": [
       "(a=tanh, m=833), Epochs::   0%|          | 0/2000 [00:00<?, ?it/s]"
      ]
     },
     "metadata": {},
     "output_type": "display_data"
    },
    {
     "name": "stdout",
     "output_type": "stream",
     "text": [
      "| \u001b[0m13       \u001b[0m | \u001b[0m0.8231   \u001b[0m | \u001b[0m3.0      \u001b[0m | \u001b[0m833.3    \u001b[0m |\n"
     ]
    },
    {
     "data": {
      "application/vnd.jupyter.widget-view+json": {
       "model_id": "c2d2c48936fa44a482284a4432ea5127",
       "version_major": 2,
       "version_minor": 0
      },
      "text/plain": [
       "(a=relu, m=55), Epochs::   0%|          | 0/2000 [00:00<?, ?it/s]"
      ]
     },
     "metadata": {},
     "output_type": "display_data"
    },
    {
     "name": "stdout",
     "output_type": "stream",
     "text": [
      "| \u001b[0m14       \u001b[0m | \u001b[0m0.9215   \u001b[0m | \u001b[0m0.0      \u001b[0m | \u001b[0m55.97    \u001b[0m |\n"
     ]
    },
    {
     "data": {
      "application/vnd.jupyter.widget-view+json": {
       "model_id": "88957841abbf4082a9484ea5c15c489a",
       "version_major": 2,
       "version_minor": 0
      },
      "text/plain": [
       "(a=relu, m=292), Epochs::   0%|          | 0/2000 [00:00<?, ?it/s]"
      ]
     },
     "metadata": {},
     "output_type": "display_data"
    },
    {
     "name": "stdout",
     "output_type": "stream",
     "text": [
      "| \u001b[0m15       \u001b[0m | \u001b[0m0.8901   \u001b[0m | \u001b[0m0.0      \u001b[0m | \u001b[0m292.5    \u001b[0m |\n"
     ]
    },
    {
     "data": {
      "application/vnd.jupyter.widget-view+json": {
       "model_id": "26a41729429e4ddc8cf77b9bdd0b15c4",
       "version_major": 2,
       "version_minor": 0
      },
      "text/plain": [
       "(a=tanh, m=135), Epochs::   0%|          | 0/2000 [00:00<?, ?it/s]"
      ]
     },
     "metadata": {},
     "output_type": "display_data"
    },
    {
     "name": "stdout",
     "output_type": "stream",
     "text": [
      "| \u001b[0m16       \u001b[0m | \u001b[0m0.91     \u001b[0m | \u001b[0m3.0      \u001b[0m | \u001b[0m135.3    \u001b[0m |\n",
      "=================================================\n",
      "Best Hyperparameters: {'activation_fn_cd': 0.6278632845903596, 'batch_size': 19.749418104603663}\n"
     ]
    }
   ],
   "source": [
    "# Perform the optimization\n",
    "optimizer.maximize(init_points=5, n_iter=10)\n",
    "\n",
    "# Access the best parameters found\n",
    "best_params = optimizer.max['params']\n",
    "print(\"Best Hyperparameters:\", best_params)"
   ]
  },
  {
   "cell_type": "code",
   "execution_count": 41,
   "metadata": {},
   "outputs": [
    {
     "name": "stdout",
     "output_type": "stream",
     "text": [
      "Best Hyperparameters: relu 19\n"
     ]
    }
   ],
   "source": [
    "best_a = activation_fn_mapping.get(int(best_params['activation_fn_cd']))\n",
    "best_m = int(best_params['batch_size'])\n",
    "print(\"Best Hyperparameters:\", best_a, best_m)"
   ]
  },
  {
   "cell_type": "markdown",
   "metadata": {},
   "source": [
    "With probe, we get another set of hyperparameters that gives us the macro-averge F1 of >.95 on validation set. Our next step is again to train the model with both train and valiation data and report the final test F1 score."
   ]
  },
  {
   "cell_type": "code",
   "execution_count": null,
   "metadata": {},
   "outputs": [],
   "source": [
    "# also available\n",
    "# tunning the Gaussian Process\n",
    "# optimizer.set_gp_params(alpha=1e-3, n_restarts_optimizer=5)"
   ]
  },
  {
   "cell_type": "markdown",
   "metadata": {},
   "source": [
    "Train the model on the training and validation data using the selected hyperparameters. Evaluate the\n",
    "model on the test data. Plot the training F1 score versus the training epochs. Report the test F1\n",
    "score.\n",
    "\n",
    "Like previously, we using all `train_X.npy` as the X_train."
   ]
  },
  {
   "cell_type": "code",
   "execution_count": 42,
   "metadata": {},
   "outputs": [],
   "source": [
    "# reload the data\n",
    "X_train = np.load('data/train_X.npy')\n",
    "X_test = np.load('data/test_X.npy')\n",
    "y_train = np.load('data/train_y.npy')\n",
    "y_test = np.load('data/test_y.npy')\n",
    "X_train.shape, X_test.shape, y_train.shape, y_test.shape # 50/50 split for train/test\n",
    "\n",
    "# reshape for NN input\n",
    "X_train = np.reshape(X_train, (X_train.shape[0], -1))\n",
    "X_test = np.reshape(X_test, (X_test.shape[0], -1))\n",
    "\n",
    "# one-hot encode the labels\n",
    "y_train_one_hot = one_hot_matrix(y_train)\n",
    "y_test_one_hot = one_hot_matrix(y_test)"
   ]
  },
  {
   "cell_type": "code",
   "execution_count": 44,
   "metadata": {},
   "outputs": [
    {
     "data": {
      "application/vnd.jupyter.widget-view+json": {
       "model_id": "5aa9a38bd6564b099820d5ea28bc78ec",
       "version_major": 2,
       "version_minor": 0
      },
      "text/plain": [
       "(a=relu, m=19), Epochs::   0%|          | 0/2000 [00:00<?, ?it/s]"
      ]
     },
     "metadata": {},
     "output_type": "display_data"
    }
   ],
   "source": [
    "# train the model with the best hyperparameters\n",
    "E = 2000\n",
    "model = get_model(activation_fn=best_a)\n",
    "# early_stopping = EarlyStopping(monitor='loss', patience=P, restore_best_weights=True)\n",
    "\n",
    "# Create tqdm progress bar for epochs\n",
    "epochs_iterator = tqdm(range(E), desc=f'(a={best_a}, m={best_m}), Epochs:', leave=False)\n",
    "training_f1 = []\n",
    "\n",
    "for epoch in epochs_iterator:\n",
    "    # Fit the model for each epoch\n",
    "    history = model.fit(\n",
    "        X_train,\n",
    "        y_train_one_hot,\n",
    "        epochs=1,  # 1 epoch at a time to update tqdm\n",
    "        batch_size=best_m,\n",
    "        # callbacks=[early_stopping], # run for the entirety\n",
    "        verbose=0\n",
    "    )\n",
    "    training_f1.append(history.history['f1_score'][-1])\n",
    "    \n",
    "    # Update tqdm with F1 score and loss for the last epoch\n",
    "    epochs_iterator.set_postfix(\n",
    "        {'f1_score': history.history['f1_score'][-1], 'loss': history.history['loss'][-1]}\n",
    "    )"
   ]
  },
  {
   "cell_type": "code",
   "execution_count": 48,
   "metadata": {},
   "outputs": [],
   "source": [
    "# save the model to models\n",
    "model.save(f\"models/BO-{best_a}-{best_m}.h5\")"
   ]
  },
  {
   "cell_type": "code",
   "execution_count": 49,
   "metadata": {},
   "outputs": [
    {
     "name": "stdout",
     "output_type": "stream",
     "text": [
      "33/33 [==============================] - 0s 1ms/step\n",
      "Macro average test F1 score: 0.9604812253382133\n"
     ]
    }
   ],
   "source": [
    "# evaluate the model\n",
    "model = tf.keras.models.load_model(f\"models/BO-{best_a}-{best_m}.h5\")\n",
    "y_pred_prob = model.predict(X_test)\n",
    "y_pred = np.argmax(y_pred_prob, axis=1)\n",
    "y_true = y_test\n",
    "f1 = f1_score(y_true, y_pred, average='macro')\n",
    "print('Macro average test F1 score:', f1)"
   ]
  },
  {
   "cell_type": "code",
   "execution_count": 50,
   "metadata": {},
   "outputs": [
    {
     "data": {
      "image/png": "[encoded data removed]",
      "text/plain": [
       "<Figure size 640x480 with 1 Axes>"
      ]
     },
     "metadata": {},
     "output_type": "display_data"
    }
   ],
   "source": [
    "# plot the training F1 s score versus the training epochs\n",
    "plt.plot(training_f1)\n",
    "plt.title(\"Training F1 Score\")\n",
    "plt.xlabel(\"Epoch\")\n",
    "plt.ylabel(\"F1 Score\")\n",
    "plt.show()"
   ]
  },
  {
   "cell_type": "markdown",
   "metadata": {},
   "source": [
    "Compare the hyperparameters chosen by the Genetic Algorithm and the Bayesian Optimization method.\n",
    "Briefly discuss the pros and cons of the two methods."
   ]
  },
  {
   "cell_type": "markdown",
   "metadata": {},
   "source": [
    "**Parameters Comparison**\n",
    "\n",
    "The best hyperparameters for Genetic Algorithm (GA) is using 'tanh' as the activation funciton with the batch size of 20. That gives us the test F1 of 95.52%. The best hyperparameters for Bayesian Optimization (BO) is using 'relu' as the activation funciton with the batch size of 19. That gives us the test F1 of 96.05%."
   ]
  },
  {
   "attachments": {
    "image-2.png": {
     "image/png": "[encoded data removed]"
    },
    "image.png": {
     "image/png": "[encoded data removed]"
    }
   },
   "cell_type": "markdown",
   "metadata": {},
   "source": [
    "**Pros and Cons**\n",
    "\n",
    "Granted, we don't cover a lot about either during the lecture, so I am reverting a lot to [this paper](http://cs.ndsu.edu/~siludwig/Publish/papers/CEC2021.pdf), and try to tie it to what I see during the training process. \n",
    "\n",
    "GAs are considered global searchs, and are robust against getting stuck in local optima due to their stochastic nature and ability to maintain diversity in the population. The con, versus BO, we have some many more hyperparameters to tune - # of generations to run, mutation probability, hack, we even have three ways of terminate criteria on paper and we have to decide on the hyperparameters for these as well. So on that note, it requires a decent understanding of the problem. \n",
    "\n",
    "BO is known for its efficiency and flexibility. It's efficient because converges pretty fast. Comparing to GA, BO is considered more sample efficient - in each iteration, the surrogate model is fitted to all observations of the target function made so far, and is capable of predicting how untested combinations will perform, so it can get the most out of every sample. Empiracally, we can see that in GA, the average fitness score of the first generation was around 60%, versus in BO, we got high 70% in the very first hyperparameter pairs we tried. BO only requires the choice of surrogate function and acqusition function - the package we are using comes with gaussian processes so we don't even have to define it ourself, just plug in the black box function and viola, here're the results. Comparing to GAs' many many hyperparameters to decide on first, that is pretty hassle-free. The hidden con is that the computational complexity of a Bayesian method is highly dependent on the particular model used, and at each each data point, the posterior distribution can become more and more complex. We are only running it for 15 iterations so the difference is not very distinguishable, but according to the paper, \"BO consumed more time than the genetic algorithm to find the best parameters\", which if you took a close look, is more than doubling the time and a worse result for the specific problem mentioned in the paper:\n",
    "\n",
    "![image-2.png](attachment:image-2.png)\n",
    "\n",
    "![image.png](attachment:image.png)\n",
    "\n",
    "Some general pros and cons: both GA and BO can handle both continuous and discrete hyperparameters, so it's also considered a pro according to the paper. And of course, the randomness also means that they may not always converge to the global optimium and can be sensitive to initial population. They can also be computationally expensive, especially when the search spaces is structued on a very high dimension and can grow expotentially. Both are also parallelizable - we can see that at each generation, the computation of the fitness score of any one chromosome is not determined on another so we can easily run in parallel provided we have the computation resources. We can also run BO in parallel, even given the sequential nature. One common approach is with asynchronous Bayesian Optimization, where we take into account the hyperparameter that is currently being run, without knowledge of what the result might be. There are also other methods like predictive entropy search for multi-objective Bayesian optimization (PESMO), which is designed for parallel and multi-objective settings."
   ]
  },
  {
   "cell_type": "markdown",
   "metadata": {},
   "source": [
    "### "
   ]
  }
 ],
 "metadata": {
  "kernelspec": {
   "display_name": "py39-mldsrl",
   "language": "python",
   "name": "python3"
  },
  "language_info": {
   "codemirror_mode": {
    "name": "ipython",
    "version": 3
   },
   "file_extension": ".py",
   "mimetype": "text/x-python",
   "name": "python",
   "nbconvert_exporter": "python",
   "pygments_lexer": "ipython3",
   "version": "3.9.18"
  }
 },
 "nbformat": 4,
 "nbformat_minor": 2
}
